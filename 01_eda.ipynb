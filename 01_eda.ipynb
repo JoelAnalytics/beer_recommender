{
 "cells": [
  {
   "cell_type": "markdown",
   "id": "288dc26a",
   "metadata": {},
   "source": [
    "- The user describes what kind of beer she is looking for. \n",
    "- E.g. “I want a low-alcoholic beer, with fruity notes. And gluten free”\n",
    "\n",
    "- The API returns the top-N beers that fit into the requirements."
   ]
  },
  {
   "cell_type": "markdown",
   "id": "939fd5f8",
   "metadata": {},
   "source": [
    "## EDA\n",
    "\n",
    "- **What pieces of information can we use to describe a beer?** We may use the 'type' which is a value that I added to my df based on 'style' column. We may also take into account 'Fruits,Body,Sweet,Sour,bitter'. Those values have a poor correlation with the rating but they got the highest correlations and they are widly used to describe a beer too\n",
    "\n",
    "- **What entries should be dropped because of missing data?** There are only 2 rows with missing values and these are less than 1% of our dataset so we may delete them.\n",
    "\n",
    "- **Distribution of key features: geo, alcohol level…**\n",
    "\n",
    "- The most popular beers in our dataset are Lager,Stout,IPA."
   ]
  },
  {
   "cell_type": "code",
   "execution_count": null,
   "id": "6389470d",
   "metadata": {},
   "outputs": [],
   "source": [
    "import pandas as pd\n",
    "import numpy as np\n",
    "import matplotlib.pyplot as plt"
   ]
  },
  {
   "cell_type": "code",
   "execution_count": 95,
   "id": "a0d979bd",
   "metadata": {},
   "outputs": [],
   "source": [
    "##### Data Visualization\n",
    "import matplotlib.pyplot as plt\n",
    "import seaborn as sns\n",
    "plt.style.use('seaborn-whitegrid')\n",
    "\n",
    "# Inline plotting\n",
    "%matplotlib inline"
   ]
  },
  {
   "cell_type": "code",
   "execution_count": 2,
   "id": "5a529f91",
   "metadata": {},
   "outputs": [],
   "source": [
    "import seaborn as sns"
   ]
  },
  {
   "cell_type": "code",
   "execution_count": 3,
   "id": "56546c6f",
   "metadata": {},
   "outputs": [],
   "source": []
  },
  {
   "cell_type": "code",
   "execution_count": 4,
   "id": "cdd6d56a",
   "metadata": {},
   "outputs": [
    {
     "data": {
      "text/html": [
       "<div><div id=249601c2-3ea7-4873-99dc-e0aff064197e style=\"display:none; background-color:#9D6CFF; color:white; width:200px; height:30px; padding-left:5px; border-radius:4px; flex-direction:row; justify-content:space-around; align-items:center;\" onmouseover=\"this.style.backgroundColor='#BA9BF8'\" onmouseout=\"this.style.backgroundColor='#9D6CFF'\" onclick=\"window.commands?.execute('create-mitosheet-from-dataframe-output');\">See Full Dataframe in Mito</div> <script> if (window.commands?.hasCommand('create-mitosheet-from-dataframe-output')) document.getElementById('249601c2-3ea7-4873-99dc-e0aff064197e').style.display = 'flex' </script> <table border=\"1\" class=\"dataframe\">\n",
       "  <thead>\n",
       "    <tr style=\"text-align: right;\">\n",
       "      <th></th>\n",
       "      <th>Name</th>\n",
       "      <th>key</th>\n",
       "      <th>Style</th>\n",
       "      <th>Style Key</th>\n",
       "      <th>Brewery</th>\n",
       "      <th>Description</th>\n",
       "      <th>ABV</th>\n",
       "      <th>Ave Rating</th>\n",
       "      <th>Min IBU</th>\n",
       "      <th>Max IBU</th>\n",
       "      <th>...</th>\n",
       "      <th>Body</th>\n",
       "      <th>Alcohol</th>\n",
       "      <th>Bitter</th>\n",
       "      <th>Sweet</th>\n",
       "      <th>Sour</th>\n",
       "      <th>Salty</th>\n",
       "      <th>Fruits</th>\n",
       "      <th>Hoppy</th>\n",
       "      <th>Spices</th>\n",
       "      <th>Malty</th>\n",
       "    </tr>\n",
       "  </thead>\n",
       "  <tbody>\n",
       "    <tr>\n",
       "      <th>0</th>\n",
       "      <td>Amber</td>\n",
       "      <td>251</td>\n",
       "      <td>Altbier</td>\n",
       "      <td>8</td>\n",
       "      <td>Alaskan Brewing Co.</td>\n",
       "      <td>Notes:Richly malty and long on the palate, with just enough hop backing to make this beautiful amber colored \"alt\" style beer notably well balanced.\\t</td>\n",
       "      <td>5.3</td>\n",
       "      <td>3.65</td>\n",
       "      <td>25</td>\n",
       "      <td>50</td>\n",
       "      <td>...</td>\n",
       "      <td>32</td>\n",
       "      <td>9</td>\n",
       "      <td>47</td>\n",
       "      <td>74</td>\n",
       "      <td>33</td>\n",
       "      <td>0</td>\n",
       "      <td>33</td>\n",
       "      <td>57</td>\n",
       "      <td>8</td>\n",
       "      <td>111</td>\n",
       "    </tr>\n",
       "  </tbody>\n",
       "</table></div>"
      ],
      "text/plain": [
       "    Name  key    Style  Style Key              Brewery  \\\n",
       "0  Amber  251  Altbier          8  Alaskan Brewing Co.   \n",
       "\n",
       "                                         Description  ABV  Ave Rating  \\\n",
       "0  Notes:Richly malty and long on the palate, wit...  5.3        3.65   \n",
       "\n",
       "   Min IBU  Max IBU  ...  Body  Alcohol  Bitter  Sweet  Sour  Salty  Fruits  \\\n",
       "0       25       50  ...    32        9      47     74    33      0      33   \n",
       "\n",
       "   Hoppy  Spices  Malty  \n",
       "0     57       8    111  \n",
       "\n",
       "[1 rows x 21 columns]"
      ]
     },
     "execution_count": 4,
     "metadata": {},
     "output_type": "execute_result"
    }
   ],
   "source": [
    "df=pd.read_csv('C:/Users/Yooel/Desktop/beer_recommender/data/beer_data_set.csv')\n",
    "df.head(1)"
   ]
  },
  {
   "cell_type": "code",
   "execution_count": 5,
   "id": "b19cf7ad",
   "metadata": {},
   "outputs": [],
   "source": [
    "unique_values=df.select_dtypes(include='number').nunique().sort_values()"
   ]
  },
  {
   "cell_type": "code",
   "execution_count": 6,
   "id": "2b396873",
   "metadata": {},
   "outputs": [
    {
     "data": {
      "text/plain": [
       "<AxesSubplot:title={'center':'Unique Values per Columns'}>"
      ]
     },
     "execution_count": 6,
     "metadata": {},
     "output_type": "execute_result"
    },
    {
     "data": {
      "image/png": "[encoded data removed]",
      "text/plain": [
       "<Figure size 1080x288 with 1 Axes>"
      ]
     },
     "metadata": {
      "needs_background": "light"
     },
     "output_type": "display_data"
    }
   ],
   "source": [
    "unique_values.plot.bar(logy=True,figsize=(15,4),title='Unique Values per Columns')"
   ]
  },
  {
   "cell_type": "code",
   "execution_count": 19,
   "id": "bae1a214",
   "metadata": {},
   "outputs": [
    {
     "name": "stdout",
     "output_type": "stream",
     "text": [
      "We have 0 duplicate values\n"
     ]
    }
   ],
   "source": [
    "n_duplicates=df.drop(labels=['key'],axis=1).duplicated().sum()\n",
    "print(f\"We have {n_duplicates} duplicate values\")"
   ]
  },
  {
   "cell_type": "code",
   "execution_count": 7,
   "id": "97f13cc5",
   "metadata": {},
   "outputs": [
    {
     "data": {
      "text/plain": [
       "Name           2\n",
       "key            0\n",
       "Style          0\n",
       "Style Key      0\n",
       "Brewery        0\n",
       "Description    0\n",
       "ABV            0\n",
       "Ave Rating     0\n",
       "Min IBU        0\n",
       "Max IBU        0\n",
       "Astringency    0\n",
       "Body           0\n",
       "Alcohol        0\n",
       "Bitter         0\n",
       "Sweet          0\n",
       "Sour           0\n",
       "Salty          0\n",
       "Fruits         0\n",
       "Hoppy          0\n",
       "Spices         0\n",
       "Malty          0\n",
       "dtype: int64"
      ]
     },
     "execution_count": 7,
     "metadata": {},
     "output_type": "execute_result"
    }
   ],
   "source": [
    "df.isnull().sum()"
   ]
  },
  {
   "cell_type": "code",
   "execution_count": 8,
   "id": "9d3ffb6a",
   "metadata": {
    "scrolled": true
   },
   "outputs": [
    {
     "data": {
      "text/html": [
       "<div><div id=4993923c-2d0f-4dc8-87ad-905a6286634d style=\"display:none; background-color:#9D6CFF; color:white; width:200px; height:30px; padding-left:5px; border-radius:4px; flex-direction:row; justify-content:space-around; align-items:center;\" onmouseover=\"this.style.backgroundColor='#BA9BF8'\" onmouseout=\"this.style.backgroundColor='#9D6CFF'\" onclick=\"window.commands?.execute('create-mitosheet-from-dataframe-output');\">See Full Dataframe in Mito</div> <script> if (window.commands?.hasCommand('create-mitosheet-from-dataframe-output')) document.getElementById('4993923c-2d0f-4dc8-87ad-905a6286634d').style.display = 'flex' </script> <table border=\"1\" class=\"dataframe\">\n",
       "  <thead>\n",
       "    <tr style=\"text-align: right;\">\n",
       "      <th></th>\n",
       "      <th>Name</th>\n",
       "      <th>key</th>\n",
       "      <th>Style</th>\n",
       "      <th>Style Key</th>\n",
       "      <th>Brewery</th>\n",
       "      <th>Description</th>\n",
       "      <th>ABV</th>\n",
       "      <th>Ave Rating</th>\n",
       "      <th>Min IBU</th>\n",
       "      <th>Max IBU</th>\n",
       "      <th>...</th>\n",
       "      <th>Body</th>\n",
       "      <th>Alcohol</th>\n",
       "      <th>Bitter</th>\n",
       "      <th>Sweet</th>\n",
       "      <th>Sour</th>\n",
       "      <th>Salty</th>\n",
       "      <th>Fruits</th>\n",
       "      <th>Hoppy</th>\n",
       "      <th>Spices</th>\n",
       "      <th>Malty</th>\n",
       "    </tr>\n",
       "  </thead>\n",
       "  <tbody>\n",
       "    <tr>\n",
       "      <th>1803</th>\n",
       "      <td>NaN</td>\n",
       "      <td>3504</td>\n",
       "      <td>Kvass</td>\n",
       "      <td>81</td>\n",
       "      <td>Monastyrskiy Kvas</td>\n",
       "      <td>Notes:</td>\n",
       "      <td>1.5</td>\n",
       "      <td>3.07</td>\n",
       "      <td>0</td>\n",
       "      <td>0</td>\n",
       "      <td>...</td>\n",
       "      <td>34</td>\n",
       "      <td>4</td>\n",
       "      <td>15</td>\n",
       "      <td>84</td>\n",
       "      <td>16</td>\n",
       "      <td>1</td>\n",
       "      <td>33</td>\n",
       "      <td>14</td>\n",
       "      <td>7</td>\n",
       "      <td>68</td>\n",
       "    </tr>\n",
       "    <tr>\n",
       "      <th>2150</th>\n",
       "      <td>NaN</td>\n",
       "      <td>2401</td>\n",
       "      <td>Lager - European Pale</td>\n",
       "      <td>57</td>\n",
       "      <td>Stella Artois</td>\n",
       "      <td>Notes:</td>\n",
       "      <td>5.0</td>\n",
       "      <td>3.11</td>\n",
       "      <td>18</td>\n",
       "      <td>25</td>\n",
       "      <td>...</td>\n",
       "      <td>14</td>\n",
       "      <td>10</td>\n",
       "      <td>20</td>\n",
       "      <td>19</td>\n",
       "      <td>3</td>\n",
       "      <td>0</td>\n",
       "      <td>1</td>\n",
       "      <td>26</td>\n",
       "      <td>3</td>\n",
       "      <td>26</td>\n",
       "    </tr>\n",
       "  </tbody>\n",
       "</table></div>"
      ],
      "text/plain": [
       "     Name   key                  Style  Style Key            Brewery  \\\n",
       "1803  NaN  3504                  Kvass         81  Monastyrskiy Kvas   \n",
       "2150  NaN  2401  Lager - European Pale         57      Stella Artois   \n",
       "\n",
       "     Description  ABV  Ave Rating  Min IBU  Max IBU  ...  Body  Alcohol  \\\n",
       "1803      Notes:  1.5        3.07        0        0  ...    34        4   \n",
       "2150      Notes:  5.0        3.11       18       25  ...    14       10   \n",
       "\n",
       "      Bitter  Sweet  Sour  Salty  Fruits  Hoppy  Spices  Malty  \n",
       "1803      15     84    16      1      33     14       7     68  \n",
       "2150      20     19     3      0       1     26       3     26  \n",
       "\n",
       "[2 rows x 21 columns]"
      ]
     },
     "execution_count": 8,
     "metadata": {},
     "output_type": "execute_result"
    }
   ],
   "source": [
    "#These are the entries that should be dropped due to missing values\n",
    "\n",
    "df[df['Name'].isnull()]"
   ]
  },
  {
   "cell_type": "code",
   "execution_count": 161,
   "id": "688b11b5",
   "metadata": {},
   "outputs": [
    {
     "data": {
      "text/html": [
       "<div><div id=e472476f-d5c9-4bb0-b5eb-5467b0ce0dd5 style=\"display:none; background-color:#9D6CFF; color:white; width:200px; height:30px; padding-left:5px; border-radius:4px; flex-direction:row; justify-content:space-around; align-items:center;\" onmouseover=\"this.style.backgroundColor='#BA9BF8'\" onmouseout=\"this.style.backgroundColor='#9D6CFF'\" onclick=\"window.commands?.execute('create-mitosheet-from-dataframe-output');\">See Full Dataframe in Mito</div> <script> if (window.commands?.hasCommand('create-mitosheet-from-dataframe-output')) document.getElementById('e472476f-d5c9-4bb0-b5eb-5467b0ce0dd5').style.display = 'flex' </script> <table border=\"1\" class=\"dataframe\">\n",
       "  <thead>\n",
       "    <tr style=\"text-align: right;\">\n",
       "      <th></th>\n",
       "      <th>Name</th>\n",
       "      <th>key</th>\n",
       "      <th>Style</th>\n",
       "      <th>Style Key</th>\n",
       "      <th>Brewery</th>\n",
       "      <th>Description</th>\n",
       "      <th>ABV</th>\n",
       "      <th>Ave Rating</th>\n",
       "      <th>Min IBU</th>\n",
       "      <th>Max IBU</th>\n",
       "      <th>...</th>\n",
       "      <th>Alcohol</th>\n",
       "      <th>Bitter</th>\n",
       "      <th>Sweet</th>\n",
       "      <th>Sour</th>\n",
       "      <th>Salty</th>\n",
       "      <th>Fruits</th>\n",
       "      <th>Hoppy</th>\n",
       "      <th>Spices</th>\n",
       "      <th>Malty</th>\n",
       "      <th>type</th>\n",
       "    </tr>\n",
       "  </thead>\n",
       "  <tbody>\n",
       "    <tr>\n",
       "      <th>0</th>\n",
       "      <td>Amber</td>\n",
       "      <td>251</td>\n",
       "      <td>Altbier</td>\n",
       "      <td>8</td>\n",
       "      <td>Alaskan Brewing Co.</td>\n",
       "      <td>Notes:Richly malty and long on the palate, with just enough hop backing to make this beautiful amber colored \"alt\" style beer notably well balanced.\\t</td>\n",
       "      <td>5.3</td>\n",
       "      <td>3.65</td>\n",
       "      <td>25</td>\n",
       "      <td>50</td>\n",
       "      <td>...</td>\n",
       "      <td>9</td>\n",
       "      <td>47</td>\n",
       "      <td>74</td>\n",
       "      <td>33</td>\n",
       "      <td>0</td>\n",
       "      <td>33</td>\n",
       "      <td>57</td>\n",
       "      <td>8</td>\n",
       "      <td>111</td>\n",
       "      <td>Altbier</td>\n",
       "    </tr>\n",
       "  </tbody>\n",
       "</table></div>"
      ],
      "text/plain": [
       "    Name  key    Style  Style Key              Brewery  \\\n",
       "0  Amber  251  Altbier          8  Alaskan Brewing Co.   \n",
       "\n",
       "                                         Description  ABV  Ave Rating  \\\n",
       "0  Notes:Richly malty and long on the palate, wit...  5.3        3.65   \n",
       "\n",
       "   Min IBU  Max IBU  ...  Alcohol  Bitter  Sweet  Sour  Salty  Fruits  Hoppy  \\\n",
       "0       25       50  ...        9      47     74    33      0      33     57   \n",
       "\n",
       "   Spices  Malty     type  \n",
       "0       8    111  Altbier  \n",
       "\n",
       "[1 rows x 22 columns]"
      ]
     },
     "execution_count": 161,
     "metadata": {},
     "output_type": "execute_result"
    }
   ],
   "source": [
    "df['type']=(df['Style'].str.split('-',expand=True))[[0]]\n",
    "df.head(1)"
   ]
  },
  {
   "cell_type": "code",
   "execution_count": 26,
   "id": "5831afbc",
   "metadata": {},
   "outputs": [
    {
     "data": {
      "text/plain": [
       "0.0003598416696653472"
      ]
     },
     "execution_count": 26,
     "metadata": {},
     "output_type": "execute_result"
    }
   ],
   "source": [
    "#Missing values are less than 1% so it's ok.\n",
    "len(df[df['Name'].isnull()])/len(df)"
   ]
  },
  {
   "cell_type": "code",
   "execution_count": 10,
   "id": "7e22c6dc",
   "metadata": {},
   "outputs": [],
   "source": [
    "categorical_values=list(df.select_dtypes(include='object').columns)"
   ]
  },
  {
   "cell_type": "code",
   "execution_count": 11,
   "id": "b0d3c365",
   "metadata": {},
   "outputs": [
    {
     "name": "stdout",
     "output_type": "stream",
     "text": [
      "Name\n",
      "['Amber' 'Double Bag' 'Long Trail Ale' ... 'Fish Tale Winterfish'\n",
      " \"He'Brew Hanukkah, Chanukah: Pass The Beer\"\n",
      " 'Frosted Frog Christmas Ale - Barrel-Aged']\n",
      "5317\n",
      "\n",
      "\n",
      "Style\n",
      "['Altbier' 'Barleywine - American' 'Barleywine - English'\n",
      " 'Bitter - English Extra Special / Strong Bitter (ESB)' 'Bitter - English'\n",
      " 'Bière de Champagne / Bière Brut' 'Blonde Ale - American'\n",
      " 'Blonde Ale - Belgian' 'Bock - Doppelbock' 'Bock - Eisbock'\n",
      " 'Bock - Maibock' 'Bock - Traditional' 'Bock - Weizenbock' 'Braggot'\n",
      " 'Brett Beer' 'Brown Ale - American' 'Brown Ale - Belgian Dark'\n",
      " 'Brown Ale - English' 'California Common / Steam Beer' 'Chile Beer'\n",
      " 'Cream Ale' 'Dubbel' 'Farmhouse Ale - Bière de Garde'\n",
      " 'Farmhouse Ale - Sahti' 'Farmhouse Ale - Saison' 'Fruit and Field Beer'\n",
      " 'Gruit / Ancient Herbed Ale' 'Happoshu' 'Herb and Spice Beer'\n",
      " 'IPA - American' 'IPA - Belgian' 'IPA - Black / Cascadian Dark Ale'\n",
      " 'IPA - Brut' 'IPA - English' 'IPA - Imperial' 'IPA - New England' 'Kvass'\n",
      " 'Kölsch' 'Lager - Adjunct' 'Lager - American Amber / Red'\n",
      " 'Lager - American' 'Lager - European / Dortmunder Export'\n",
      " 'Lager - European Dark' 'Lager - European Pale' 'Lager - European Strong'\n",
      " 'Lager - Helles' 'Lager - India Pale Lager (IPL)' 'Lager - Japanese Rice'\n",
      " 'Lager - Kellerbier / Zwickelbier' 'Lager - Light' 'Lager - Malt Liquor'\n",
      " 'Lager - Munich Dunkel' 'Lager - Märzen / Oktoberfest'\n",
      " 'Lager - Rauchbier' 'Lager - Schwarzbier' 'Lager - Vienna'\n",
      " 'Lambic - Faro' 'Lambic - Fruit' 'Lambic - Gueuze' 'Lambic - Traditional'\n",
      " 'Low Alcohol Beer' 'Mild Ale - English Dark' 'Mild Ale - English Pale'\n",
      " 'Old Ale' 'Pale Ale - American' 'Pale Ale - Belgian' 'Pale Ale - English'\n",
      " 'Pilsner - Bohemian / Czech' 'Pilsner - German' 'Pilsner - Imperial'\n",
      " 'Porter - American' 'Porter - Baltic' 'Porter - English'\n",
      " 'Porter - Imperial' 'Porter - Robust' 'Porter - Smoked' 'Pumpkin Beer'\n",
      " 'Quadrupel (Quad)' 'Red Ale - American Amber / Red' 'Red Ale - Imperial'\n",
      " 'Red Ale - Irish' 'Rye Beer - Roggenbier' 'Rye Beer'\n",
      " 'Scotch Ale / Wee Heavy' 'Scottish Ale' 'Smoked Beer'\n",
      " 'Sour - Berliner Weisse' 'Sour - Flanders Oud Bruin'\n",
      " 'Sour - Flanders Red Ale' 'Sour - Gose' 'Stout - American Imperial'\n",
      " 'Stout - American' 'Stout - English' 'Stout - Foreign / Export'\n",
      " 'Stout - Irish Dry' 'Stout - Oatmeal' 'Stout - Russian Imperial'\n",
      " 'Stout - Sweet / Milk' 'Strong Ale - American'\n",
      " 'Strong Ale - Belgian Dark' 'Strong Ale - Belgian Pale'\n",
      " 'Strong Ale - English' 'Tripel' 'Wheat Beer - American Dark'\n",
      " 'Wheat Beer - American Pale' 'Wheat Beer - Dunkelweizen'\n",
      " 'Wheat Beer - Hefeweizen' 'Wheat Beer - Kristallweizen'\n",
      " 'Wheat Beer - Wheatwine' 'Wheat Beer - Witbier' 'Wild Ale'\n",
      " 'Winter Warmer']\n",
      "112\n",
      "\n",
      "\n",
      "Brewery\n",
      "['Alaskan Brewing Co.' 'Long Trail Brewing Co.'\n",
      " 'Uerige Obergärige Hausbrauerei' ... 'Russell Brewing Company'\n",
      " 'Aslin Beer Company' 'Stony Creek Brewery']\n",
      "1498\n",
      "\n",
      "\n",
      "Description\n",
      "['Notes:Richly malty and long on the palate, with just enough hop backing to make this beautiful amber colored \"alt\" style beer notably well balanced.\\t'\n",
      " 'Notes:This malty, full-bodied double alt is also known as “Stickebier” – German slang for “secret brew”. Long Trail Double Bag was originally offered only in our brewery taproom as a special treat to our visitors. With an alcohol content of 7.2%, please indulge in moderation. The Long Trail Brewing Company is proud to have Double Bag named Malt Advocate’s “Beer of the Year” in 2001. Malt Advocate is a national magazine devoted to “expanding the boundaries of fine drinks”. Their panel of judges likes to keep things simple, and therefore of thousands of eligible competitors they award only two categories: “Imported” and “Domestic”. It is a great honor to receive this recognition.33 IBU\\t'\n",
      " 'Notes:Long Trail Ale is a full-bodied amber ale modeled after the “Alt-biers” of Düsseldorf, Germany. Our top fermenting yeast and cold finishing temperature result in a complex, yet clean, full flavor. Originally introduced in November of 1989, Long Trail Ale beer quickly became, and remains, the largest selling craft-brew in Vermont. It is a multiple medal winner at the Great American Beer Festival.25 IBU\\t'\n",
      " ...\n",
      " \"Notes:This hearty American pale ale contains a rich blend of spices that warms the soul on a cold winter's night. Chill the mug, stoke the fire, and savor this quality seasonal brew. Available only during the Winter season.\\t\"\n",
      " \"Notes:This is the forty-fifth annual Our Special Ale from the brewers at Anchor. This ale, made with natural flavors, is sold only from early November to mid-January. Its recipe and hand-drawn tree change every year, but the intent with which we offer it remains the same: joy and celebration of the newness of life. Since ancient times, trees have symbolized the winter solstice when the earth, with its seasons, appears born anew. This year's tree is a western arborvitae (tree of life), an evergreen conifer native to Northern California.\\t\"\n",
      " \"Notes:Chanukah Beer pours a rich crystal clear chestnut to ruby color with a light creamy head. The aroma and flavors lean toward a robust winter warmer, though brewed without any spices. Just all malt and hop goodness! Light caramel and toasty nuttiness as well as a hint of sweeter chocolate are rounded out by a healthy dose of European Noble and classic American new school hops. With 8 malts, 8 hops and 8% alcohol, this beer is real wonder with so many elements blending to create balanced and yet still distinct flavors. Hanukkah Beer is brewed as a celebration offering and sure to light up your holiday season. L'Chaim!\\t\"]\n",
      "3347\n",
      "\n",
      "\n",
      "type\n",
      "['Altbier' 'Barleywine ' 'Bitter ' 'Bière de Champagne / Bière Brut'\n",
      " 'Blonde Ale ' 'Bock ' 'Braggot' 'Brett Beer' 'Brown Ale '\n",
      " 'California Common / Steam Beer' 'Chile Beer' 'Cream Ale' 'Dubbel'\n",
      " 'Farmhouse Ale ' 'Fruit and Field Beer' 'Gruit / Ancient Herbed Ale'\n",
      " 'Happoshu' 'Herb and Spice Beer' 'IPA ' 'Kvass' 'Kölsch' 'Lager '\n",
      " 'Lambic ' 'Low Alcohol Beer' 'Mild Ale ' 'Old Ale' 'Pale Ale ' 'Pilsner '\n",
      " 'Porter ' 'Pumpkin Beer' 'Quadrupel (Quad)' 'Red Ale ' 'Rye Beer '\n",
      " 'Rye Beer' 'Scotch Ale / Wee Heavy' 'Scottish Ale' 'Smoked Beer' 'Sour '\n",
      " 'Stout ' 'Strong Ale ' 'Tripel' 'Wheat Beer ' 'Wild Ale' 'Winter Warmer']\n",
      "44\n",
      "\n",
      "\n"
     ]
    }
   ],
   "source": [
    "for x in categorical_values:\n",
    "    print(x)\n",
    "    print(df[x].unique())\n",
    "    print(df[x].nunique())\n",
    "    print()\n",
    "    print()"
   ]
  },
  {
   "cell_type": "code",
   "execution_count": 21,
   "id": "1bdbc906",
   "metadata": {},
   "outputs": [],
   "source": [
    "numerical_values=list(df.select_dtypes(include='number').columns)"
   ]
  },
  {
   "cell_type": "code",
   "execution_count": 41,
   "id": "e28ea6c2",
   "metadata": {},
   "outputs": [
    {
     "data": {
      "text/plain": [
       "Lager                              0.161929\n",
       "Stout                              0.071968\n",
       "IPA                                0.062972\n",
       "Wheat Beer                         0.062972\n",
       "Porter                             0.053976\n",
       "Bock                               0.044980\n",
       "Strong Ale                         0.035984\n",
       "Sour                               0.035264\n",
       "Lambic                             0.029327\n",
       "Pale Ale                           0.026988\n",
       "Farmhouse Ale                      0.026988\n",
       "Brown Ale                          0.026988\n",
       "Red Ale                            0.026988\n",
       "Pilsner                            0.026988\n",
       "Bitter                             0.017992\n",
       "Barleywine                         0.017992\n",
       "Mild Ale                           0.017992\n",
       "Blonde Ale                         0.017992\n",
       "Kölsch                             0.008996\n",
       "Herb and Spice Beer                0.008996\n",
       "Gruit / Ancient Herbed Ale         0.008996\n",
       "Quadrupel (Quad)                   0.008996\n",
       "Scotch Ale / Wee Heavy             0.008996\n",
       "Pumpkin Beer                       0.008996\n",
       "Rye Beer                           0.008996\n",
       "Braggot                            0.008996\n",
       "Smoked Beer                        0.008996\n",
       "Winter Warmer                      0.008996\n",
       "Rye Beer                           0.008996\n",
       "Dubbel                             0.008996\n",
       "Old Ale                            0.008996\n",
       "Fruit and Field Beer               0.008996\n",
       "Cream Ale                          0.008996\n",
       "California Common / Steam Beer     0.008996\n",
       "Bière de Champagne / Bière Brut    0.008996\n",
       "Kvass                              0.008996\n",
       "Happoshu                           0.008996\n",
       "Chile Beer                         0.008996\n",
       "Tripel                             0.008996\n",
       "Scottish Ale                       0.008996\n",
       "Brett Beer                         0.008996\n",
       "Altbier                            0.008996\n",
       "Low Alcohol Beer                   0.008996\n",
       "Wild Ale                           0.008816\n",
       "Name: type, dtype: float64"
      ]
     },
     "execution_count": 41,
     "metadata": {},
     "output_type": "execute_result"
    }
   ],
   "source": [
    "#The 3 most popular type of beer in our dataset are Lager,Stout,IPA.\n",
    "\n",
    "df['type'].value_counts(normalize=True)"
   ]
  },
  {
   "cell_type": "code",
   "execution_count": 120,
   "id": "51b6720a",
   "metadata": {},
   "outputs": [
    {
     "data": {
      "text/plain": [
       "<AxesSubplot:xlabel='Ave Rating', ylabel='Count'>"
      ]
     },
     "execution_count": 120,
     "metadata": {},
     "output_type": "execute_result"
    },
    {
     "data": {
      "image/png": "[encoded data removed]",
      "text/plain": [
       "<Figure size 432x288 with 1 Axes>"
      ]
     },
     "metadata": {
      "needs_background": "light"
     },
     "output_type": "display_data"
    }
   ],
   "source": [
    "sns.histplot(df['Ave Rating'],bins=30)"
   ]
  },
  {
   "cell_type": "code",
   "execution_count": 151,
   "id": "941b8047",
   "metadata": {},
   "outputs": [
    {
     "data": {
      "text/plain": [
       "<AxesSubplot:xlabel='Alcohol', ylabel='Count'>"
      ]
     },
     "execution_count": 151,
     "metadata": {},
     "output_type": "execute_result"
    },
    {
     "data": {
      "image/png": "[encoded data removed]",
      "text/plain": [
       "<Figure size 432x288 with 1 Axes>"
      ]
     },
     "metadata": {
      "needs_background": "light"
     },
     "output_type": "display_data"
    }
   ],
   "source": [
    "sns.histplot(df['Alcohol'],color='red',bins=30)"
   ]
  },
  {
   "cell_type": "code",
   "execution_count": 153,
   "id": "4c8f3408",
   "metadata": {},
   "outputs": [
    {
     "data": {
      "text/plain": [
       "<AxesSubplot:xlabel='Fruits', ylabel='Count'>"
      ]
     },
     "execution_count": 153,
     "metadata": {},
     "output_type": "execute_result"
    },
    {
     "data": {
      "image/png": "[encoded data removed]",
      "text/plain": [
       "<Figure size 432x288 with 1 Axes>"
      ]
     },
     "metadata": {
      "needs_background": "light"
     },
     "output_type": "display_data"
    }
   ],
   "source": [
    "sns.histplot(df['Fruits'],color='red',bins=30)"
   ]
  },
  {
   "cell_type": "code",
   "execution_count": 154,
   "id": "729aae0e",
   "metadata": {},
   "outputs": [
    {
     "data": {
      "text/plain": [
       "<AxesSubplot:xlabel='Body', ylabel='Count'>"
      ]
     },
     "execution_count": 154,
     "metadata": {},
     "output_type": "execute_result"
    },
    {
     "data": {
      "image/png": "[encoded data removed]",
      "text/plain": [
       "<Figure size 432x288 with 1 Axes>"
      ]
     },
     "metadata": {
      "needs_background": "light"
     },
     "output_type": "display_data"
    }
   ],
   "source": [
    "sns.histplot(df['Body'],color='red',bins=30)"
   ]
  },
  {
   "cell_type": "code",
   "execution_count": 155,
   "id": "e29ee2f2",
   "metadata": {},
   "outputs": [
    {
     "data": {
      "text/plain": [
       "<AxesSubplot:xlabel='Sweet', ylabel='Count'>"
      ]
     },
     "execution_count": 155,
     "metadata": {},
     "output_type": "execute_result"
    },
    {
     "data": {
      "image/png": "[encoded data removed]",
      "text/plain": [
       "<Figure size 432x288 with 1 Axes>"
      ]
     },
     "metadata": {
      "needs_background": "light"
     },
     "output_type": "display_data"
    }
   ],
   "source": [
    "sns.histplot(df['Sweet'],color='red',bins=30)"
   ]
  },
  {
   "cell_type": "code",
   "execution_count": 156,
   "id": "09e6f2a0",
   "metadata": {},
   "outputs": [
    {
     "data": {
      "text/plain": [
       "<AxesSubplot:xlabel='Sour', ylabel='Count'>"
      ]
     },
     "execution_count": 156,
     "metadata": {},
     "output_type": "execute_result"
    },
    {
     "data": {
      "image/png": "[encoded data removed]",
      "text/plain": [
       "<Figure size 432x288 with 1 Axes>"
      ]
     },
     "metadata": {
      "needs_background": "light"
     },
     "output_type": "display_data"
    }
   ],
   "source": [
    "sns.histplot(df['Sour'],color='red',bins=30)"
   ]
  },
  {
   "cell_type": "code",
   "execution_count": 107,
   "id": "907e756a",
   "metadata": {},
   "outputs": [
    {
     "data": {
      "text/plain": [
       "<AxesSubplot:>"
      ]
     },
     "execution_count": 107,
     "metadata": {},
     "output_type": "execute_result"
    },
    {
     "data": {
      "image/png": "[encoded data removed]",
      "text/plain": [
       "<Figure size 936x648 with 2 Axes>"
      ]
     },
     "metadata": {
      "needs_background": "light"
     },
     "output_type": "display_data"
    }
   ],
   "source": [
    "plt.figure(figsize=(13, 9))\n",
    "\n",
    "corr = df[numerical_values].corr()\n",
    "matrix = np.triu(corr)\n",
    "sns.heatmap(corr, cmap=\"Blues\", annot=True,mask=matrix)"
   ]
  },
  {
   "cell_type": "code",
   "execution_count": 141,
   "id": "7207acbc",
   "metadata": {},
   "outputs": [
    {
     "data": {
      "text/plain": [
       "Ave Rating     1.000000\n",
       "ABV            0.397886\n",
       "Fruits         0.346845\n",
       "Min IBU        0.316693\n",
       "Max IBU        0.309347\n",
       "Body           0.304012\n",
       "Sweet          0.291256\n",
       "Sour           0.280917\n",
       "Bitter         0.217807\n",
       "Alcohol        0.206772\n",
       "Malty          0.166673\n",
       "Spices         0.163894\n",
       "Style Key      0.147485\n",
       "key            0.147239\n",
       "Astringency    0.123156\n",
       "Hoppy          0.086045\n",
       "Salty          0.008001\n",
       "Name: Ave Rating, dtype: float64"
      ]
     },
     "execution_count": 141,
     "metadata": {},
     "output_type": "execute_result"
    }
   ],
   "source": [
    "#ABV->Alcohol by Volume\n",
    "#Poor correlation between the ranking and other features\n",
    "\n",
    "corr['Ave Rating'].sort_values(ascending=False)"
   ]
  },
  {
   "cell_type": "code",
   "execution_count": null,
   "id": "404ce3e0",
   "metadata": {},
   "outputs": [],
   "source": []
  }
 ],
 "metadata": {
  "kernelspec": {
   "display_name": "Python 3",
   "language": "python",
   "name": "python3"
  },
  "language_info": {
   "codemirror_mode": {
    "name": "ipython",
    "version": 3
   },
   "file_extension": ".py",
   "mimetype": "text/x-python",
   "name": "python",
   "nbconvert_exporter": "python",
   "pygments_lexer": "ipython3",
   "version": "3.8.8"
  },
  "vscode": {
   "interpreter": {
    "hash": "61e949a31781f544075d74ea90da72715088cf322f989b147c5300e4e4630d0b"
   }
  }
 },
 "nbformat": 4,
 "nbformat_minor": 5
}
