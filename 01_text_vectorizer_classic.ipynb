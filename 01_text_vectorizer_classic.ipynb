{
 "cells": [
  {
   "cell_type": "code",
   "execution_count": 6,
   "id": "6cd8e0ac",
   "metadata": {},
   "outputs": [],
   "source": [
    "import pandas as pd\n",
    "import numpy as np\n",
    "import matplotlib.pyplot as plt\n",
    "pd.options.display.max_columns = 200\n",
    "import seaborn as sns"
   ]
  },
  {
   "cell_type": "code",
   "execution_count": 8,
   "id": "9f05cf9f",
   "metadata": {},
   "outputs": [],
   "source": [
    "##### Data Visualization\n",
    "import matplotlib.pyplot as plt\n",
    "import seaborn as sns\n",
    "plt.style.use('seaborn-whitegrid')\n",
    "\n",
    "# Inline plotting\n",
    "%matplotlib inline"
   ]
  },
  {
   "cell_type": "code",
   "execution_count": 9,
   "id": "53792941",
   "metadata": {},
   "outputs": [],
   "source": [
    "from pathlib import Path"
   ]
  },
  {
   "cell_type": "code",
   "execution_count": 10,
   "id": "31dbe693",
   "metadata": {},
   "outputs": [],
   "source": [
    "from sklearn.feature_extraction.text import TfidfVectorizer"
   ]
  },
  {
   "cell_type": "code",
   "execution_count": 11,
   "id": "4fc811e3",
   "metadata": {},
   "outputs": [],
   "source": [
    "PROJECT_DIR = Path.cwd()\n",
    "DATA_DIR = PROJECT_DIR / 'data'"
   ]
  },
  {
   "cell_type": "code",
   "execution_count": 12,
   "id": "dda6d565",
   "metadata": {},
   "outputs": [
    {
     "data": {
      "text/html": [
       "<div><div id=fdd620f9-8118-424a-a636-2ff9e57f1671 style=\"display:none; background-color:#9D6CFF; color:white; width:200px; height:30px; padding-left:5px; border-radius:4px; flex-direction:row; justify-content:space-around; align-items:center;\" onmouseover=\"this.style.backgroundColor='#BA9BF8'\" onmouseout=\"this.style.backgroundColor='#9D6CFF'\" onclick=\"window.commands?.execute('create-mitosheet-from-dataframe-output');\">See Full Dataframe in Mito</div> <script> if (window.commands?.hasCommand('create-mitosheet-from-dataframe-output')) document.getElementById('fdd620f9-8118-424a-a636-2ff9e57f1671').style.display = 'flex' </script> <table border=\"1\" class=\"dataframe\">\n",
       "  <thead>\n",
       "    <tr style=\"text-align: right;\">\n",
       "      <th></th>\n",
       "      <th>Name</th>\n",
       "      <th>key</th>\n",
       "      <th>Style</th>\n",
       "      <th>Style Key</th>\n",
       "      <th>Brewery</th>\n",
       "      <th>Description</th>\n",
       "      <th>ABV</th>\n",
       "      <th>Ave Rating</th>\n",
       "      <th>Min IBU</th>\n",
       "      <th>Max IBU</th>\n",
       "      <th>...</th>\n",
       "      <th>Body</th>\n",
       "      <th>Alcohol</th>\n",
       "      <th>Bitter</th>\n",
       "      <th>Sweet</th>\n",
       "      <th>Sour</th>\n",
       "      <th>Salty</th>\n",
       "      <th>Fruits</th>\n",
       "      <th>Hoppy</th>\n",
       "      <th>Spices</th>\n",
       "      <th>Malty</th>\n",
       "    </tr>\n",
       "  </thead>\n",
       "  <tbody>\n",
       "    <tr>\n",
       "      <th>0</th>\n",
       "      <td>Amber</td>\n",
       "      <td>251</td>\n",
       "      <td>Altbier</td>\n",
       "      <td>8</td>\n",
       "      <td>Alaskan Brewing Co.</td>\n",
       "      <td>Notes:Richly malty and long on the palate, with just enough hop backing to make this beautiful amber colored \"alt\" style beer notably well balanced.\\t</td>\n",
       "      <td>5.3</td>\n",
       "      <td>3.65</td>\n",
       "      <td>25</td>\n",
       "      <td>50</td>\n",
       "      <td>...</td>\n",
       "      <td>32</td>\n",
       "      <td>9</td>\n",
       "      <td>47</td>\n",
       "      <td>74</td>\n",
       "      <td>33</td>\n",
       "      <td>0</td>\n",
       "      <td>33</td>\n",
       "      <td>57</td>\n",
       "      <td>8</td>\n",
       "      <td>111</td>\n",
       "    </tr>\n",
       "  </tbody>\n",
       "</table></div>"
      ],
      "text/plain": [
       "    Name  key    Style  Style Key              Brewery  \\\n",
       "0  Amber  251  Altbier          8  Alaskan Brewing Co.   \n",
       "\n",
       "                                         Description  ABV  Ave Rating  \\\n",
       "0  Notes:Richly malty and long on the palate, wit...  5.3        3.65   \n",
       "\n",
       "   Min IBU  Max IBU  ...  Body  Alcohol  Bitter  Sweet  Sour  Salty  Fruits  \\\n",
       "0       25       50  ...    32        9      47     74    33      0      33   \n",
       "\n",
       "   Hoppy  Spices  Malty  \n",
       "0     57       8    111  \n",
       "\n",
       "[1 rows x 21 columns]"
      ]
     },
     "execution_count": 12,
     "metadata": {},
     "output_type": "execute_result"
    }
   ],
   "source": [
    "df=pd.read_csv(DATA_DIR / 'beer_data_set.csv')\n",
    "df.head(1)"
   ]
  },
  {
   "cell_type": "code",
   "execution_count": 13,
   "id": "626020fb",
   "metadata": {},
   "outputs": [
    {
     "data": {
      "text/html": [
       "<div><div id=efadaf45-920f-4608-b470-aa0103b596ab style=\"display:none; background-color:#9D6CFF; color:white; width:200px; height:30px; padding-left:5px; border-radius:4px; flex-direction:row; justify-content:space-around; align-items:center;\" onmouseover=\"this.style.backgroundColor='#BA9BF8'\" onmouseout=\"this.style.backgroundColor='#9D6CFF'\" onclick=\"window.commands?.execute('create-mitosheet-from-dataframe-output');\">See Full Dataframe in Mito</div> <script> if (window.commands?.hasCommand('create-mitosheet-from-dataframe-output')) document.getElementById('efadaf45-920f-4608-b470-aa0103b596ab').style.display = 'flex' </script> <table border=\"1\" class=\"dataframe\">\n",
       "  <thead>\n",
       "    <tr style=\"text-align: right;\">\n",
       "      <th></th>\n",
       "      <th>Description</th>\n",
       "    </tr>\n",
       "  </thead>\n",
       "  <tbody>\n",
       "    <tr>\n",
       "      <th>0</th>\n",
       "      <td>Notes:Richly malty and long on the palate, with just enough hop backing to make this beautiful amber colored \"alt\" style beer notably well balanced.\\t</td>\n",
       "    </tr>\n",
       "    <tr>\n",
       "      <th>1</th>\n",
       "      <td>Notes:This malty, full-bodied double alt is also known as “Stickebier” – German slang for “secret brew”. Long Trail Double Bag was originally offered only in our brewery taproom as a special treat to our visitors. With an alcohol content of 7.2%, please indulge in moderation. The Long Trail Brewing Company is proud to have Double Bag named Malt Advocate’s “Beer of the Year” in 2001. Malt Advocate is a national magazine devoted to “expanding the boundaries of fine drinks”. Their panel of judges likes to keep things simple, and therefore of thousands of eligible competitors they award only two categories: “Imported” and “Domestic”. It is a great honor to receive this recognition.33 IBU\\t</td>\n",
       "    </tr>\n",
       "    <tr>\n",
       "      <th>2</th>\n",
       "      <td>Notes:Long Trail Ale is a full-bodied amber ale modeled after the “Alt-biers” of Düsseldorf, Germany. Our top fermenting yeast and cold finishing temperature result in a complex, yet clean, full flavor. Originally introduced in November of 1989, Long Trail Ale beer quickly became, and remains, the largest selling craft-brew in Vermont. It is a multiple medal winner at the Great American Beer Festival.25 IBU\\t</td>\n",
       "    </tr>\n",
       "    <tr>\n",
       "      <th>3</th>\n",
       "      <td>Notes:</td>\n",
       "    </tr>\n",
       "    <tr>\n",
       "      <th>4</th>\n",
       "      <td>Notes:Just cause it's dark and German doesn't mean it's an alt. Based on the obscure Kottbusser style of beer, this surprisingly dry beer retains all the aroma and nuance of honey (from bees) and molasses (not from bees) creating a perception of sweetness through cool, controlled fermentation. Because we're sweet enough damn it. 18 IBU\\t</td>\n",
       "    </tr>\n",
       "    <tr>\n",
       "      <th>...</th>\n",
       "      <td>...</td>\n",
       "    </tr>\n",
       "    <tr>\n",
       "      <th>5553</th>\n",
       "      <td>Notes:</td>\n",
       "    </tr>\n",
       "    <tr>\n",
       "      <th>5554</th>\n",
       "      <td>Notes:This is the forty-fifth annual Our Special Ale from the brewers at Anchor. This ale, made with natural flavors, is sold only from early November to mid-January. Its recipe and hand-drawn tree change every year, but the intent with which we offer it remains the same: joy and celebration of the newness of life. Since ancient times, trees have symbolized the winter solstice when the earth, with its seasons, appears born anew. This year's tree is a western arborvitae (tree of life), an evergreen conifer native to Northern California.\\t</td>\n",
       "    </tr>\n",
       "    <tr>\n",
       "      <th>5555</th>\n",
       "      <td>Notes:</td>\n",
       "    </tr>\n",
       "    <tr>\n",
       "      <th>5556</th>\n",
       "      <td>Notes:Chanukah Beer pours a rich crystal clear chestnut to ruby color with a light creamy head. The aroma and flavors lean toward a robust winter warmer, though brewed without any spices. Just all malt and hop goodness! Light caramel and toasty nuttiness as well as a hint of sweeter chocolate are rounded out by a healthy dose of European Noble and classic American new school hops. With 8 malts, 8 hops and 8% alcohol, this beer is real wonder with so many elements blending to create balanced and yet still distinct flavors. Hanukkah Beer is brewed as a celebration offering and sure to light up your holiday season. L'Chaim!\\t</td>\n",
       "    </tr>\n",
       "    <tr>\n",
       "      <th>5557</th>\n",
       "      <td>Notes:The essence of Christmas is captured in this very bottle. Perfectly blended spices compliment Frosted Frog’s rich malt flavors, creating the ultimate Christmas experience. Celebrate the holidays as you savor this very special seasonal offering.\\t</td>\n",
       "    </tr>\n",
       "  </tbody>\n",
       "</table></div>"
      ],
      "text/plain": [
       "                                            Description\n",
       "0     Notes:Richly malty and long on the palate, wit...\n",
       "1     Notes:This malty, full-bodied double alt is al...\n",
       "2     Notes:Long Trail Ale is a full-bodied amber al...\n",
       "3                                                Notes:\n",
       "4     Notes:Just cause it's dark and German doesn't ...\n",
       "...                                                 ...\n",
       "5553                                             Notes:\n",
       "5554  Notes:This is the forty-fifth annual Our Speci...\n",
       "5555                                             Notes:\n",
       "5556  Notes:Chanukah Beer pours a rich crystal clear...\n",
       "5557  Notes:The essence of Christmas is captured in ...\n",
       "\n",
       "[5558 rows x 1 columns]"
      ]
     },
     "execution_count": 13,
     "metadata": {},
     "output_type": "execute_result"
    }
   ],
   "source": [
    "df[['Description']]"
   ]
  },
  {
   "cell_type": "code",
   "execution_count": 14,
   "id": "c05f619d",
   "metadata": {},
   "outputs": [
    {
     "data": {
      "text/html": [
       "<div><div id=eca7b07a-a290-4f50-a7b5-f6c5acaec26f style=\"display:none; background-color:#9D6CFF; color:white; width:200px; height:30px; padding-left:5px; border-radius:4px; flex-direction:row; justify-content:space-around; align-items:center;\" onmouseover=\"this.style.backgroundColor='#BA9BF8'\" onmouseout=\"this.style.backgroundColor='#9D6CFF'\" onclick=\"window.commands?.execute('create-mitosheet-from-dataframe-output');\">See Full Dataframe in Mito</div> <script> if (window.commands?.hasCommand('create-mitosheet-from-dataframe-output')) document.getElementById('eca7b07a-a290-4f50-a7b5-f6c5acaec26f').style.display = 'flex' </script> <table border=\"1\" class=\"dataframe\">\n",
       "  <thead>\n",
       "    <tr style=\"text-align: right;\">\n",
       "      <th></th>\n",
       "      <th>Style</th>\n",
       "      <th>Description</th>\n",
       "    </tr>\n",
       "  </thead>\n",
       "  <tbody>\n",
       "    <tr>\n",
       "      <th>0</th>\n",
       "      <td>Altbier</td>\n",
       "      <td>Notes:Richly malty and long on the palate, with just enough hop backing to make this beautiful amber colored \"alt\" style beer notably well balanced.\\t</td>\n",
       "    </tr>\n",
       "    <tr>\n",
       "      <th>1</th>\n",
       "      <td>Altbier</td>\n",
       "      <td>Notes:This malty, full-bodied double alt is also known as “Stickebier” – German slang for “secret brew”. Long Trail Double Bag was originally offered only in our brewery taproom as a special treat to our visitors. With an alcohol content of 7.2%, please indulge in moderation. The Long Trail Brewing Company is proud to have Double Bag named Malt Advocate’s “Beer of the Year” in 2001. Malt Advocate is a national magazine devoted to “expanding the boundaries of fine drinks”. Their panel of judges likes to keep things simple, and therefore of thousands of eligible competitors they award only two categories: “Imported” and “Domestic”. It is a great honor to receive this recognition.33 IBU\\t</td>\n",
       "    </tr>\n",
       "    <tr>\n",
       "      <th>2</th>\n",
       "      <td>Altbier</td>\n",
       "      <td>Notes:Long Trail Ale is a full-bodied amber ale modeled after the “Alt-biers” of Düsseldorf, Germany. Our top fermenting yeast and cold finishing temperature result in a complex, yet clean, full flavor. Originally introduced in November of 1989, Long Trail Ale beer quickly became, and remains, the largest selling craft-brew in Vermont. It is a multiple medal winner at the Great American Beer Festival.25 IBU\\t</td>\n",
       "    </tr>\n",
       "    <tr>\n",
       "      <th>3</th>\n",
       "      <td>Altbier</td>\n",
       "      <td>Notes:</td>\n",
       "    </tr>\n",
       "    <tr>\n",
       "      <th>4</th>\n",
       "      <td>Altbier</td>\n",
       "      <td>Notes:Just cause it's dark and German doesn't mean it's an alt. Based on the obscure Kottbusser style of beer, this surprisingly dry beer retains all the aroma and nuance of honey (from bees) and molasses (not from bees) creating a perception of sweetness through cool, controlled fermentation. Because we're sweet enough damn it. 18 IBU\\t</td>\n",
       "    </tr>\n",
       "    <tr>\n",
       "      <th>...</th>\n",
       "      <td>...</td>\n",
       "      <td>...</td>\n",
       "    </tr>\n",
       "    <tr>\n",
       "      <th>5553</th>\n",
       "      <td>Winter Warmer</td>\n",
       "      <td>Notes:</td>\n",
       "    </tr>\n",
       "    <tr>\n",
       "      <th>5554</th>\n",
       "      <td>Winter Warmer</td>\n",
       "      <td>Notes:This is the forty-fifth annual Our Special Ale from the brewers at Anchor. This ale, made with natural flavors, is sold only from early November to mid-January. Its recipe and hand-drawn tree change every year, but the intent with which we offer it remains the same: joy and celebration of the newness of life. Since ancient times, trees have symbolized the winter solstice when the earth, with its seasons, appears born anew. This year's tree is a western arborvitae (tree of life), an evergreen conifer native to Northern California.\\t</td>\n",
       "    </tr>\n",
       "    <tr>\n",
       "      <th>5555</th>\n",
       "      <td>Winter Warmer</td>\n",
       "      <td>Notes:</td>\n",
       "    </tr>\n",
       "    <tr>\n",
       "      <th>5556</th>\n",
       "      <td>Winter Warmer</td>\n",
       "      <td>Notes:Chanukah Beer pours a rich crystal clear chestnut to ruby color with a light creamy head. The aroma and flavors lean toward a robust winter warmer, though brewed without any spices. Just all malt and hop goodness! Light caramel and toasty nuttiness as well as a hint of sweeter chocolate are rounded out by a healthy dose of European Noble and classic American new school hops. With 8 malts, 8 hops and 8% alcohol, this beer is real wonder with so many elements blending to create balanced and yet still distinct flavors. Hanukkah Beer is brewed as a celebration offering and sure to light up your holiday season. L'Chaim!\\t</td>\n",
       "    </tr>\n",
       "    <tr>\n",
       "      <th>5557</th>\n",
       "      <td>Winter Warmer</td>\n",
       "      <td>Notes:The essence of Christmas is captured in this very bottle. Perfectly blended spices compliment Frosted Frog’s rich malt flavors, creating the ultimate Christmas experience. Celebrate the holidays as you savor this very special seasonal offering.\\t</td>\n",
       "    </tr>\n",
       "  </tbody>\n",
       "</table></div>"
      ],
      "text/plain": [
       "              Style                                        Description\n",
       "0           Altbier  Notes:Richly malty and long on the palate, wit...\n",
       "1           Altbier  Notes:This malty, full-bodied double alt is al...\n",
       "2           Altbier  Notes:Long Trail Ale is a full-bodied amber al...\n",
       "3           Altbier                                             Notes:\n",
       "4           Altbier  Notes:Just cause it's dark and German doesn't ...\n",
       "...             ...                                                ...\n",
       "5553  Winter Warmer                                             Notes:\n",
       "5554  Winter Warmer  Notes:This is the forty-fifth annual Our Speci...\n",
       "5555  Winter Warmer                                             Notes:\n",
       "5556  Winter Warmer  Notes:Chanukah Beer pours a rich crystal clear...\n",
       "5557  Winter Warmer  Notes:The essence of Christmas is captured in ...\n",
       "\n",
       "[5558 rows x 2 columns]"
      ]
     },
     "execution_count": 14,
     "metadata": {},
     "output_type": "execute_result"
    }
   ],
   "source": [
    "df[['Style','Description']]"
   ]
  },
  {
   "cell_type": "code",
   "execution_count": 15,
   "id": "834fb5a8",
   "metadata": {},
   "outputs": [
    {
     "name": "stderr",
     "output_type": "stream",
     "text": [
      "NumExpr defaulting to 4 threads.\n"
     ]
    },
    {
     "data": {
      "text/plain": [
       "0       Altbier Notes:Richly malty and long on the pal...\n",
       "1       Altbier Notes:This malty, full-bodied double a...\n",
       "2       Altbier Notes:Long Trail Ale is a full-bodied ...\n",
       "3                                          Altbier Notes:\n",
       "4       Altbier Notes:Just cause it's dark and German ...\n",
       "                              ...                        \n",
       "5553                                 Winter Warmer Notes:\n",
       "5554    Winter Warmer Notes:This is the forty-fifth an...\n",
       "5555                                 Winter Warmer Notes:\n",
       "5556    Winter Warmer Notes:Chanukah Beer pours a rich...\n",
       "5557    Winter Warmer Notes:The essence of Christmas i...\n",
       "Length: 5558, dtype: object"
      ]
     },
     "execution_count": 15,
     "metadata": {},
     "output_type": "execute_result"
    }
   ],
   "source": [
    "df_details=df['Style']+' '+df['Description']\n",
    "df_details"
   ]
  },
  {
   "cell_type": "code",
   "execution_count": 16,
   "id": "c302c41f",
   "metadata": {},
   "outputs": [],
   "source": [
    "#Convert text to vector\n",
    "\n",
    "vectorizer= TfidfVectorizer()\n",
    "X=vectorizer.fit_transform(df_details)"
   ]
  },
  {
   "cell_type": "code",
   "execution_count": 17,
   "id": "ddb13571",
   "metadata": {},
   "outputs": [
    {
     "name": "stdout",
     "output_type": "stream",
     "text": [
      "  (0, 1484)\t0.1597368955213197\n",
      "  (0, 13456)\t0.17328908637325183\n",
      "  (0, 8730)\t0.35551699646605633\n",
      "  (0, 1675)\t0.08298481000493439\n",
      "  (0, 12009)\t0.1310203401086031\n",
      "  (0, 972)\t0.28079163195985857\n",
      "  (0, 3085)\t0.21963801517347956\n",
      "  (0, 1005)\t0.16926620904232537\n",
      "  (0, 1650)\t0.23497398448450782\n",
      "  (0, 12466)\t0.09542907795536898\n",
      "  (0, 7851)\t0.19264496315388877\n",
      "  (0, 12572)\t0.09341112767549023\n",
      "  (0, 1450)\t0.37242692691056006\n",
      "  (0, 6390)\t0.13720509036002806\n",
      "  (0, 4598)\t0.23057992207138495\n",
      "  (0, 7104)\t0.1771585504228139\n",
      "  (0, 13638)\t0.07937114130579749\n",
      "  (0, 9151)\t0.19264496315388877\n",
      "  (0, 12425)\t0.07832914709110336\n",
      "  (0, 8929)\t0.13358862703857965\n",
      "  (0, 7674)\t0.19833402231585284\n",
      "  (0, 1074)\t0.07131634861891063\n",
      "  (0, 7889)\t0.17173468210766285\n",
      "  (0, 10553)\t0.29436337967967724\n",
      "  (0, 8736)\t0.04172002720801788\n",
      "  :\t:\n",
      "  (5557, 11689)\t0.1591192966581711\n",
      "  (5557, 4699)\t0.2073144248004006\n",
      "  (5557, 11003)\t0.15829469635066845\n",
      "  (5557, 2884)\t0.3713952200861874\n",
      "  (5557, 2657)\t0.1761518175201727\n",
      "  (5557, 8878)\t0.17846600469825488\n",
      "  (5557, 10895)\t0.2033507187107361\n",
      "  (5557, 2051)\t0.1357529948498887\n",
      "  (5557, 13804)\t0.1026389892264095\n",
      "  (5557, 4833)\t0.16411611200878085\n",
      "  (5557, 10548)\t0.1049060219828599\n",
      "  (5557, 1903)\t0.158704133216847\n",
      "  (5557, 13167)\t0.25705306531426647\n",
      "  (5557, 5238)\t0.10621327920769183\n",
      "  (5557, 13617)\t0.13711576475033704\n",
      "  (5557, 3500)\t0.1769033437920994\n",
      "  (5557, 7865)\t0.08081218277451734\n",
      "  (5557, 8872)\t0.05575106003191381\n",
      "  (5557, 11651)\t0.12912926813043066\n",
      "  (5557, 6676)\t0.06399219781539434\n",
      "  (5557, 1279)\t0.09513058338707718\n",
      "  (5557, 6941)\t0.061535447708628226\n",
      "  (5557, 12466)\t0.13584399808903921\n",
      "  (5557, 12425)\t0.16725318009574142\n",
      "  (5557, 8736)\t0.029694383607956613\n"
     ]
    }
   ],
   "source": [
    "print(X)"
   ]
  },
  {
   "cell_type": "code",
   "execution_count": 18,
   "id": "84afcaac",
   "metadata": {},
   "outputs": [
    {
     "data": {
      "text/plain": [
       "array(['000', '000th', '003', ..., 'ﬂavor', 'ﬂavors', 'ﬂoral'],\n",
       "      dtype=object)"
      ]
     },
     "execution_count": 18,
     "metadata": {},
     "output_type": "execute_result"
    }
   ],
   "source": [
    "#Matrix column names\n",
    "vectorizer.get_feature_names_out()"
   ]
  },
  {
   "cell_type": "code",
   "execution_count": 19,
   "id": "4f08c837",
   "metadata": {},
   "outputs": [
    {
     "data": {
      "text/plain": [
       "(5558, 13892)"
      ]
     },
     "execution_count": 19,
     "metadata": {},
     "output_type": "execute_result"
    }
   ],
   "source": [
    "X.shape"
   ]
  },
  {
   "cell_type": "code",
   "execution_count": 20,
   "id": "ba5238aa",
   "metadata": {},
   "outputs": [],
   "source": [
    "from sklearn.metrics.pairwise import cosine_similarity"
   ]
  },
  {
   "cell_type": "code",
   "execution_count": 21,
   "id": "5263f240",
   "metadata": {},
   "outputs": [],
   "source": [
    "#Conver my array into a matrix\n",
    "#Todense() is useful to get a matrix\n",
    "matrix=X.todense()"
   ]
  },
  {
   "cell_type": "code",
   "execution_count": 22,
   "id": "062c0b6a",
   "metadata": {},
   "outputs": [],
   "source": [
    "#Convert my matrix into a DF\n",
    "df_matrix=pd.DataFrame(matrix,columns=vectorizer.get_feature_names_out())"
   ]
  },
  {
   "cell_type": "code",
   "execution_count": 23,
   "id": "0d1124c3",
   "metadata": {},
   "outputs": [
    {
     "data": {
      "text/plain": [
       "matrix([[0., 0., 0., ..., 0., 0., 0.],\n",
       "        [0., 0., 0., ..., 0., 0., 0.],\n",
       "        [0., 0., 0., ..., 0., 0., 0.],\n",
       "        ...,\n",
       "        [0., 0., 0., ..., 0., 0., 0.],\n",
       "        [0., 0., 0., ..., 0., 0., 0.],\n",
       "        [0., 0., 0., ..., 0., 0., 0.]])"
      ]
     },
     "execution_count": 23,
     "metadata": {},
     "output_type": "execute_result"
    }
   ],
   "source": [
    "matrix"
   ]
  },
  {
   "cell_type": "code",
   "execution_count": 24,
   "id": "5a62b506",
   "metadata": {},
   "outputs": [
    {
     "data": {
      "text/html": [
       "<div><div id=ff07cdd3-f336-487c-889d-f2d3d77e92f9 style=\"display:none; background-color:#9D6CFF; color:white; width:200px; height:30px; padding-left:5px; border-radius:4px; flex-direction:row; justify-content:space-around; align-items:center;\" onmouseover=\"this.style.backgroundColor='#BA9BF8'\" onmouseout=\"this.style.backgroundColor='#9D6CFF'\" onclick=\"window.commands?.execute('create-mitosheet-from-dataframe-output');\">See Full Dataframe in Mito</div> <script> if (window.commands?.hasCommand('create-mitosheet-from-dataframe-output')) document.getElementById('ff07cdd3-f336-487c-889d-f2d3d77e92f9').style.display = 'flex' </script> <table border=\"1\" class=\"dataframe\">\n",
       "  <thead>\n",
       "    <tr style=\"text-align: right;\">\n",
       "      <th></th>\n",
       "      <th>000</th>\n",
       "      <th>000th</th>\n",
       "      <th>003</th>\n",
       "      <th>004</th>\n",
       "      <th>005</th>\n",
       "      <th>007</th>\n",
       "      <th>010ibu</th>\n",
       "      <th>012</th>\n",
       "      <th>02</th>\n",
       "      <th>03</th>\n",
       "      <th>...</th>\n",
       "      <th>домашний</th>\n",
       "      <th>квас</th>\n",
       "      <th>секрет</th>\n",
       "      <th>семейный</th>\n",
       "      <th>ﬁne</th>\n",
       "      <th>ﬁnish</th>\n",
       "      <th>ﬂagship</th>\n",
       "      <th>ﬂavor</th>\n",
       "      <th>ﬂavors</th>\n",
       "      <th>ﬂoral</th>\n",
       "    </tr>\n",
       "  </thead>\n",
       "  <tbody>\n",
       "    <tr>\n",
       "      <th>0</th>\n",
       "      <td>0.0</td>\n",
       "      <td>0.0</td>\n",
       "      <td>0.0</td>\n",
       "      <td>0.0</td>\n",
       "      <td>0.0</td>\n",
       "      <td>0.0</td>\n",
       "      <td>0.0</td>\n",
       "      <td>0.0</td>\n",
       "      <td>0.0</td>\n",
       "      <td>0.0</td>\n",
       "      <td>...</td>\n",
       "      <td>0.0</td>\n",
       "      <td>0.0</td>\n",
       "      <td>0.0</td>\n",
       "      <td>0.0</td>\n",
       "      <td>0.0</td>\n",
       "      <td>0.0</td>\n",
       "      <td>0.0</td>\n",
       "      <td>0.0</td>\n",
       "      <td>0.0</td>\n",
       "      <td>0.0</td>\n",
       "    </tr>\n",
       "    <tr>\n",
       "      <th>1</th>\n",
       "      <td>0.0</td>\n",
       "      <td>0.0</td>\n",
       "      <td>0.0</td>\n",
       "      <td>0.0</td>\n",
       "      <td>0.0</td>\n",
       "      <td>0.0</td>\n",
       "      <td>0.0</td>\n",
       "      <td>0.0</td>\n",
       "      <td>0.0</td>\n",
       "      <td>0.0</td>\n",
       "      <td>...</td>\n",
       "      <td>0.0</td>\n",
       "      <td>0.0</td>\n",
       "      <td>0.0</td>\n",
       "      <td>0.0</td>\n",
       "      <td>0.0</td>\n",
       "      <td>0.0</td>\n",
       "      <td>0.0</td>\n",
       "      <td>0.0</td>\n",
       "      <td>0.0</td>\n",
       "      <td>0.0</td>\n",
       "    </tr>\n",
       "    <tr>\n",
       "      <th>2</th>\n",
       "      <td>0.0</td>\n",
       "      <td>0.0</td>\n",
       "      <td>0.0</td>\n",
       "      <td>0.0</td>\n",
       "      <td>0.0</td>\n",
       "      <td>0.0</td>\n",
       "      <td>0.0</td>\n",
       "      <td>0.0</td>\n",
       "      <td>0.0</td>\n",
       "      <td>0.0</td>\n",
       "      <td>...</td>\n",
       "      <td>0.0</td>\n",
       "      <td>0.0</td>\n",
       "      <td>0.0</td>\n",
       "      <td>0.0</td>\n",
       "      <td>0.0</td>\n",
       "      <td>0.0</td>\n",
       "      <td>0.0</td>\n",
       "      <td>0.0</td>\n",
       "      <td>0.0</td>\n",
       "      <td>0.0</td>\n",
       "    </tr>\n",
       "    <tr>\n",
       "      <th>3</th>\n",
       "      <td>0.0</td>\n",
       "      <td>0.0</td>\n",
       "      <td>0.0</td>\n",
       "      <td>0.0</td>\n",
       "      <td>0.0</td>\n",
       "      <td>0.0</td>\n",
       "      <td>0.0</td>\n",
       "      <td>0.0</td>\n",
       "      <td>0.0</td>\n",
       "      <td>0.0</td>\n",
       "      <td>...</td>\n",
       "      <td>0.0</td>\n",
       "      <td>0.0</td>\n",
       "      <td>0.0</td>\n",
       "      <td>0.0</td>\n",
       "      <td>0.0</td>\n",
       "      <td>0.0</td>\n",
       "      <td>0.0</td>\n",
       "      <td>0.0</td>\n",
       "      <td>0.0</td>\n",
       "      <td>0.0</td>\n",
       "    </tr>\n",
       "    <tr>\n",
       "      <th>4</th>\n",
       "      <td>0.0</td>\n",
       "      <td>0.0</td>\n",
       "      <td>0.0</td>\n",
       "      <td>0.0</td>\n",
       "      <td>0.0</td>\n",
       "      <td>0.0</td>\n",
       "      <td>0.0</td>\n",
       "      <td>0.0</td>\n",
       "      <td>0.0</td>\n",
       "      <td>0.0</td>\n",
       "      <td>...</td>\n",
       "      <td>0.0</td>\n",
       "      <td>0.0</td>\n",
       "      <td>0.0</td>\n",
       "      <td>0.0</td>\n",
       "      <td>0.0</td>\n",
       "      <td>0.0</td>\n",
       "      <td>0.0</td>\n",
       "      <td>0.0</td>\n",
       "      <td>0.0</td>\n",
       "      <td>0.0</td>\n",
       "    </tr>\n",
       "    <tr>\n",
       "      <th>...</th>\n",
       "      <td>...</td>\n",
       "      <td>...</td>\n",
       "      <td>...</td>\n",
       "      <td>...</td>\n",
       "      <td>...</td>\n",
       "      <td>...</td>\n",
       "      <td>...</td>\n",
       "      <td>...</td>\n",
       "      <td>...</td>\n",
       "      <td>...</td>\n",
       "      <td>...</td>\n",
       "      <td>...</td>\n",
       "      <td>...</td>\n",
       "      <td>...</td>\n",
       "      <td>...</td>\n",
       "      <td>...</td>\n",
       "      <td>...</td>\n",
       "      <td>...</td>\n",
       "      <td>...</td>\n",
       "      <td>...</td>\n",
       "      <td>...</td>\n",
       "    </tr>\n",
       "    <tr>\n",
       "      <th>5553</th>\n",
       "      <td>0.0</td>\n",
       "      <td>0.0</td>\n",
       "      <td>0.0</td>\n",
       "      <td>0.0</td>\n",
       "      <td>0.0</td>\n",
       "      <td>0.0</td>\n",
       "      <td>0.0</td>\n",
       "      <td>0.0</td>\n",
       "      <td>0.0</td>\n",
       "      <td>0.0</td>\n",
       "      <td>...</td>\n",
       "      <td>0.0</td>\n",
       "      <td>0.0</td>\n",
       "      <td>0.0</td>\n",
       "      <td>0.0</td>\n",
       "      <td>0.0</td>\n",
       "      <td>0.0</td>\n",
       "      <td>0.0</td>\n",
       "      <td>0.0</td>\n",
       "      <td>0.0</td>\n",
       "      <td>0.0</td>\n",
       "    </tr>\n",
       "    <tr>\n",
       "      <th>5554</th>\n",
       "      <td>0.0</td>\n",
       "      <td>0.0</td>\n",
       "      <td>0.0</td>\n",
       "      <td>0.0</td>\n",
       "      <td>0.0</td>\n",
       "      <td>0.0</td>\n",
       "      <td>0.0</td>\n",
       "      <td>0.0</td>\n",
       "      <td>0.0</td>\n",
       "      <td>0.0</td>\n",
       "      <td>...</td>\n",
       "      <td>0.0</td>\n",
       "      <td>0.0</td>\n",
       "      <td>0.0</td>\n",
       "      <td>0.0</td>\n",
       "      <td>0.0</td>\n",
       "      <td>0.0</td>\n",
       "      <td>0.0</td>\n",
       "      <td>0.0</td>\n",
       "      <td>0.0</td>\n",
       "      <td>0.0</td>\n",
       "    </tr>\n",
       "    <tr>\n",
       "      <th>5555</th>\n",
       "      <td>0.0</td>\n",
       "      <td>0.0</td>\n",
       "      <td>0.0</td>\n",
       "      <td>0.0</td>\n",
       "      <td>0.0</td>\n",
       "      <td>0.0</td>\n",
       "      <td>0.0</td>\n",
       "      <td>0.0</td>\n",
       "      <td>0.0</td>\n",
       "      <td>0.0</td>\n",
       "      <td>...</td>\n",
       "      <td>0.0</td>\n",
       "      <td>0.0</td>\n",
       "      <td>0.0</td>\n",
       "      <td>0.0</td>\n",
       "      <td>0.0</td>\n",
       "      <td>0.0</td>\n",
       "      <td>0.0</td>\n",
       "      <td>0.0</td>\n",
       "      <td>0.0</td>\n",
       "      <td>0.0</td>\n",
       "    </tr>\n",
       "    <tr>\n",
       "      <th>5556</th>\n",
       "      <td>0.0</td>\n",
       "      <td>0.0</td>\n",
       "      <td>0.0</td>\n",
       "      <td>0.0</td>\n",
       "      <td>0.0</td>\n",
       "      <td>0.0</td>\n",
       "      <td>0.0</td>\n",
       "      <td>0.0</td>\n",
       "      <td>0.0</td>\n",
       "      <td>0.0</td>\n",
       "      <td>...</td>\n",
       "      <td>0.0</td>\n",
       "      <td>0.0</td>\n",
       "      <td>0.0</td>\n",
       "      <td>0.0</td>\n",
       "      <td>0.0</td>\n",
       "      <td>0.0</td>\n",
       "      <td>0.0</td>\n",
       "      <td>0.0</td>\n",
       "      <td>0.0</td>\n",
       "      <td>0.0</td>\n",
       "    </tr>\n",
       "    <tr>\n",
       "      <th>5557</th>\n",
       "      <td>0.0</td>\n",
       "      <td>0.0</td>\n",
       "      <td>0.0</td>\n",
       "      <td>0.0</td>\n",
       "      <td>0.0</td>\n",
       "      <td>0.0</td>\n",
       "      <td>0.0</td>\n",
       "      <td>0.0</td>\n",
       "      <td>0.0</td>\n",
       "      <td>0.0</td>\n",
       "      <td>...</td>\n",
       "      <td>0.0</td>\n",
       "      <td>0.0</td>\n",
       "      <td>0.0</td>\n",
       "      <td>0.0</td>\n",
       "      <td>0.0</td>\n",
       "      <td>0.0</td>\n",
       "      <td>0.0</td>\n",
       "      <td>0.0</td>\n",
       "      <td>0.0</td>\n",
       "      <td>0.0</td>\n",
       "    </tr>\n",
       "  </tbody>\n",
       "</table></div>"
      ],
      "text/plain": [
       "      000  000th  003  004  005  007  010ibu  012   02   03  ...  домашний  \\\n",
       "0     0.0    0.0  0.0  0.0  0.0  0.0     0.0  0.0  0.0  0.0  ...       0.0   \n",
       "1     0.0    0.0  0.0  0.0  0.0  0.0     0.0  0.0  0.0  0.0  ...       0.0   \n",
       "2     0.0    0.0  0.0  0.0  0.0  0.0     0.0  0.0  0.0  0.0  ...       0.0   \n",
       "3     0.0    0.0  0.0  0.0  0.0  0.0     0.0  0.0  0.0  0.0  ...       0.0   \n",
       "4     0.0    0.0  0.0  0.0  0.0  0.0     0.0  0.0  0.0  0.0  ...       0.0   \n",
       "...   ...    ...  ...  ...  ...  ...     ...  ...  ...  ...  ...       ...   \n",
       "5553  0.0    0.0  0.0  0.0  0.0  0.0     0.0  0.0  0.0  0.0  ...       0.0   \n",
       "5554  0.0    0.0  0.0  0.0  0.0  0.0     0.0  0.0  0.0  0.0  ...       0.0   \n",
       "5555  0.0    0.0  0.0  0.0  0.0  0.0     0.0  0.0  0.0  0.0  ...       0.0   \n",
       "5556  0.0    0.0  0.0  0.0  0.0  0.0     0.0  0.0  0.0  0.0  ...       0.0   \n",
       "5557  0.0    0.0  0.0  0.0  0.0  0.0     0.0  0.0  0.0  0.0  ...       0.0   \n",
       "\n",
       "      квас  секрет  семейный  ﬁne  ﬁnish  ﬂagship  ﬂavor  ﬂavors  ﬂoral  \n",
       "0      0.0     0.0       0.0  0.0    0.0      0.0    0.0     0.0    0.0  \n",
       "1      0.0     0.0       0.0  0.0    0.0      0.0    0.0     0.0    0.0  \n",
       "2      0.0     0.0       0.0  0.0    0.0      0.0    0.0     0.0    0.0  \n",
       "3      0.0     0.0       0.0  0.0    0.0      0.0    0.0     0.0    0.0  \n",
       "4      0.0     0.0       0.0  0.0    0.0      0.0    0.0     0.0    0.0  \n",
       "...    ...     ...       ...  ...    ...      ...    ...     ...    ...  \n",
       "5553   0.0     0.0       0.0  0.0    0.0      0.0    0.0     0.0    0.0  \n",
       "5554   0.0     0.0       0.0  0.0    0.0      0.0    0.0     0.0    0.0  \n",
       "5555   0.0     0.0       0.0  0.0    0.0      0.0    0.0     0.0    0.0  \n",
       "5556   0.0     0.0       0.0  0.0    0.0      0.0    0.0     0.0    0.0  \n",
       "5557   0.0     0.0       0.0  0.0    0.0      0.0    0.0     0.0    0.0  \n",
       "\n",
       "[5558 rows x 13892 columns]"
      ]
     },
     "execution_count": 24,
     "metadata": {},
     "output_type": "execute_result"
    }
   ],
   "source": [
    "df_matrix"
   ]
  },
  {
   "cell_type": "code",
   "execution_count": 25,
   "id": "0b084218",
   "metadata": {},
   "outputs": [
    {
     "data": {
      "text/plain": [
       "(5558, 13892)"
      ]
     },
     "execution_count": 25,
     "metadata": {},
     "output_type": "execute_result"
    }
   ],
   "source": [
    "df_matrix.shape"
   ]
  },
  {
   "cell_type": "code",
   "execution_count": 26,
   "id": "ef023466",
   "metadata": {},
   "outputs": [],
   "source": [
    "from scipy.sparse import csr_matrix\n",
    "import numpy as np"
   ]
  },
  {
   "cell_type": "code",
   "execution_count": 27,
   "id": "08d8100b",
   "metadata": {},
   "outputs": [
    {
     "name": "stdout",
     "output_type": "stream",
     "text": [
      "Which kind of beer would you like to drink?:I want a fruity beer\n"
     ]
    },
    {
     "data": {
      "text/plain": [
       "'I want a fruity beer'"
      ]
     },
     "execution_count": 27,
     "metadata": {},
     "output_type": "execute_result"
    }
   ],
   "source": [
    "y=input('Which kind of beer would you like to drink?:')\n",
    "y"
   ]
  },
  {
   "cell_type": "code",
   "execution_count": 28,
   "id": "e3f5dbd0",
   "metadata": {},
   "outputs": [],
   "source": [
    "def get_similarities(X,y):\n",
    "    vectorized_text = vectorizer.transform([y])\n",
    "    similarities = cosine_similarity(X, vectorized_text)[:,0]\n",
    "    return similarities"
   ]
  },
  {
   "cell_type": "code",
   "execution_count": 29,
   "id": "73f5754f",
   "metadata": {},
   "outputs": [
    {
     "name": "stdout",
     "output_type": "stream",
     "text": [
      "I recommend you take beer 2980\n"
     ]
    }
   ],
   "source": [
    "similarities=get_similarities(X,y)\n",
    "index_top_bier = np.argmax(similarities)\n",
    "print(f'I recommend you take beer {index_top_bier}')"
   ]
  },
  {
   "cell_type": "code",
   "execution_count": 30,
   "id": "0c99ab33",
   "metadata": {},
   "outputs": [
    {
     "data": {
      "text/plain": [
       "'Low Alcohol Beer Notes:Our flavorful non-alcoholic beer for those moments when you want the taste of America’ best tasting beer without the alcohol content.\\t'"
      ]
     },
     "execution_count": 30,
     "metadata": {},
     "output_type": "execute_result"
    }
   ],
   "source": [
    "df_details.iloc[index_top_bier]"
   ]
  },
  {
   "cell_type": "markdown",
   "id": "182f193b",
   "metadata": {},
   "source": [
    "#### Many of our descriptions have a short length and this is due to a lack of information in that field. They display the message ''Notes:\" . They should be counted as null values because they don't provide any value to our model."
   ]
  },
  {
   "cell_type": "code",
   "execution_count": 31,
   "id": "f7455e07",
   "metadata": {},
   "outputs": [
    {
     "data": {
      "text/plain": [
       "<AxesSubplot:xlabel='Description', ylabel='Count'>"
      ]
     },
     "execution_count": 31,
     "metadata": {},
     "output_type": "execute_result"
    },
    {
     "data": {
      "image/png": "[encoded data removed]",
      "text/plain": [
       "<Figure size 432x288 with 1 Axes>"
      ]
     },
     "metadata": {
      "needs_background": "light"
     },
     "output_type": "display_data"
    }
   ],
   "source": [
    "sns.histplot(df['Description'].str.len(),bins=50)"
   ]
  },
  {
   "cell_type": "code",
   "execution_count": 32,
   "id": "6b214a86",
   "metadata": {},
   "outputs": [
    {
     "data": {
      "text/plain": [
       "6       2196\n",
       "13        27\n",
       "270       14\n",
       "359       12\n",
       "285       12\n",
       "        ... \n",
       "118        1\n",
       "90         1\n",
       "58         1\n",
       "18         1\n",
       "2043       1\n",
       "Name: Description, Length: 832, dtype: int64"
      ]
     },
     "execution_count": 32,
     "metadata": {},
     "output_type": "execute_result"
    }
   ],
   "source": [
    "df['Description'].str.len().value_counts(ascending=False)"
   ]
  },
  {
   "cell_type": "code",
   "execution_count": 35,
   "id": "8f7c8401",
   "metadata": {},
   "outputs": [
    {
     "data": {
      "text/html": [
       "<div><div id=54af9d68-36f4-4403-b5e7-905f93ed76be style=\"display:none; background-color:#9D6CFF; color:white; width:200px; height:30px; padding-left:5px; border-radius:4px; flex-direction:row; justify-content:space-around; align-items:center;\" onmouseover=\"this.style.backgroundColor='#BA9BF8'\" onmouseout=\"this.style.backgroundColor='#9D6CFF'\" onclick=\"window.commands?.execute('create-mitosheet-from-dataframe-output');\">See Full Dataframe in Mito</div> <script> if (window.commands?.hasCommand('create-mitosheet-from-dataframe-output')) document.getElementById('54af9d68-36f4-4403-b5e7-905f93ed76be').style.display = 'flex' </script> <table border=\"1\" class=\"dataframe\">\n",
       "  <thead>\n",
       "    <tr style=\"text-align: right;\">\n",
       "      <th></th>\n",
       "      <th>Name</th>\n",
       "      <th>key</th>\n",
       "      <th>Style</th>\n",
       "      <th>Style Key</th>\n",
       "      <th>Brewery</th>\n",
       "      <th>Description</th>\n",
       "      <th>ABV</th>\n",
       "      <th>Ave Rating</th>\n",
       "      <th>Min IBU</th>\n",
       "      <th>Max IBU</th>\n",
       "      <th>...</th>\n",
       "      <th>Body</th>\n",
       "      <th>Alcohol</th>\n",
       "      <th>Bitter</th>\n",
       "      <th>Sweet</th>\n",
       "      <th>Sour</th>\n",
       "      <th>Salty</th>\n",
       "      <th>Fruits</th>\n",
       "      <th>Hoppy</th>\n",
       "      <th>Spices</th>\n",
       "      <th>Malty</th>\n",
       "    </tr>\n",
       "  </thead>\n",
       "  <tbody>\n",
       "    <tr>\n",
       "      <th>3</th>\n",
       "      <td>Doppelsticke</td>\n",
       "      <td>254</td>\n",
       "      <td>Altbier</td>\n",
       "      <td>8</td>\n",
       "      <td>Uerige Obergärige Hausbrauerei</td>\n",
       "      <td>Notes:</td>\n",
       "      <td>8.5</td>\n",
       "      <td>4.15</td>\n",
       "      <td>25</td>\n",
       "      <td>50</td>\n",
       "      <td>...</td>\n",
       "      <td>55</td>\n",
       "      <td>31</td>\n",
       "      <td>47</td>\n",
       "      <td>101</td>\n",
       "      <td>18</td>\n",
       "      <td>1</td>\n",
       "      <td>49</td>\n",
       "      <td>40</td>\n",
       "      <td>16</td>\n",
       "      <td>119</td>\n",
       "    </tr>\n",
       "    <tr>\n",
       "      <th>6</th>\n",
       "      <td>Sticke</td>\n",
       "      <td>257</td>\n",
       "      <td>Altbier</td>\n",
       "      <td>8</td>\n",
       "      <td>Uerige Obergärige Hausbrauerei</td>\n",
       "      <td>Notes:</td>\n",
       "      <td>6.0</td>\n",
       "      <td>4.10</td>\n",
       "      <td>25</td>\n",
       "      <td>50</td>\n",
       "      <td>...</td>\n",
       "      <td>45</td>\n",
       "      <td>13</td>\n",
       "      <td>46</td>\n",
       "      <td>62</td>\n",
       "      <td>25</td>\n",
       "      <td>1</td>\n",
       "      <td>34</td>\n",
       "      <td>60</td>\n",
       "      <td>4</td>\n",
       "      <td>103</td>\n",
       "    </tr>\n",
       "    <tr>\n",
       "      <th>8</th>\n",
       "      <td>Southampton Altbier</td>\n",
       "      <td>259</td>\n",
       "      <td>Altbier</td>\n",
       "      <td>8</td>\n",
       "      <td>Southampton Publick House</td>\n",
       "      <td>Notes:</td>\n",
       "      <td>5.0</td>\n",
       "      <td>3.60</td>\n",
       "      <td>25</td>\n",
       "      <td>50</td>\n",
       "      <td>...</td>\n",
       "      <td>49</td>\n",
       "      <td>5</td>\n",
       "      <td>37</td>\n",
       "      <td>73</td>\n",
       "      <td>22</td>\n",
       "      <td>0</td>\n",
       "      <td>21</td>\n",
       "      <td>37</td>\n",
       "      <td>4</td>\n",
       "      <td>98</td>\n",
       "    </tr>\n",
       "    <tr>\n",
       "      <th>10</th>\n",
       "      <td>Organic Münster Alt</td>\n",
       "      <td>261</td>\n",
       "      <td>Altbier</td>\n",
       "      <td>8</td>\n",
       "      <td>Brauerei Pinkus Mueller</td>\n",
       "      <td>Notes:</td>\n",
       "      <td>5.1</td>\n",
       "      <td>3.70</td>\n",
       "      <td>25</td>\n",
       "      <td>50</td>\n",
       "      <td>...</td>\n",
       "      <td>31</td>\n",
       "      <td>5</td>\n",
       "      <td>35</td>\n",
       "      <td>50</td>\n",
       "      <td>55</td>\n",
       "      <td>5</td>\n",
       "      <td>52</td>\n",
       "      <td>66</td>\n",
       "      <td>8</td>\n",
       "      <td>77</td>\n",
       "    </tr>\n",
       "    <tr>\n",
       "      <th>20</th>\n",
       "      <td>Alt-eration Ale</td>\n",
       "      <td>271</td>\n",
       "      <td>Altbier</td>\n",
       "      <td>8</td>\n",
       "      <td>Hops &amp; Grain Brewing</td>\n",
       "      <td>Notes:</td>\n",
       "      <td>5.0</td>\n",
       "      <td>3.81</td>\n",
       "      <td>25</td>\n",
       "      <td>50</td>\n",
       "      <td>...</td>\n",
       "      <td>43</td>\n",
       "      <td>3</td>\n",
       "      <td>54</td>\n",
       "      <td>54</td>\n",
       "      <td>7</td>\n",
       "      <td>0</td>\n",
       "      <td>10</td>\n",
       "      <td>60</td>\n",
       "      <td>9</td>\n",
       "      <td>111</td>\n",
       "    </tr>\n",
       "    <tr>\n",
       "      <th>...</th>\n",
       "      <td>...</td>\n",
       "      <td>...</td>\n",
       "      <td>...</td>\n",
       "      <td>...</td>\n",
       "      <td>...</td>\n",
       "      <td>...</td>\n",
       "      <td>...</td>\n",
       "      <td>...</td>\n",
       "      <td>...</td>\n",
       "      <td>...</td>\n",
       "      <td>...</td>\n",
       "      <td>...</td>\n",
       "      <td>...</td>\n",
       "      <td>...</td>\n",
       "      <td>...</td>\n",
       "      <td>...</td>\n",
       "      <td>...</td>\n",
       "      <td>...</td>\n",
       "      <td>...</td>\n",
       "      <td>...</td>\n",
       "      <td>...</td>\n",
       "    </tr>\n",
       "    <tr>\n",
       "      <th>5547</th>\n",
       "      <td>Winter Warmer</td>\n",
       "      <td>690</td>\n",
       "      <td>Winter Warmer</td>\n",
       "      <td>17</td>\n",
       "      <td>Rahr &amp; Sons Brewing Company</td>\n",
       "      <td>Notes:</td>\n",
       "      <td>8.5</td>\n",
       "      <td>3.76</td>\n",
       "      <td>35</td>\n",
       "      <td>50</td>\n",
       "      <td>...</td>\n",
       "      <td>67</td>\n",
       "      <td>31</td>\n",
       "      <td>46</td>\n",
       "      <td>67</td>\n",
       "      <td>11</td>\n",
       "      <td>0</td>\n",
       "      <td>24</td>\n",
       "      <td>24</td>\n",
       "      <td>28</td>\n",
       "      <td>100</td>\n",
       "    </tr>\n",
       "    <tr>\n",
       "      <th>5548</th>\n",
       "      <td>Young's Winter Warmer</td>\n",
       "      <td>691</td>\n",
       "      <td>Winter Warmer</td>\n",
       "      <td>17</td>\n",
       "      <td>Eagle Brewery</td>\n",
       "      <td>Notes:</td>\n",
       "      <td>5.0</td>\n",
       "      <td>3.55</td>\n",
       "      <td>35</td>\n",
       "      <td>50</td>\n",
       "      <td>...</td>\n",
       "      <td>67</td>\n",
       "      <td>17</td>\n",
       "      <td>28</td>\n",
       "      <td>73</td>\n",
       "      <td>19</td>\n",
       "      <td>0</td>\n",
       "      <td>19</td>\n",
       "      <td>32</td>\n",
       "      <td>43</td>\n",
       "      <td>100</td>\n",
       "    </tr>\n",
       "    <tr>\n",
       "      <th>5550</th>\n",
       "      <td>Winter Shredder</td>\n",
       "      <td>693</td>\n",
       "      <td>Winter Warmer</td>\n",
       "      <td>17</td>\n",
       "      <td>Cisco Brewers Inc.</td>\n",
       "      <td>Notes:</td>\n",
       "      <td>8.8</td>\n",
       "      <td>3.38</td>\n",
       "      <td>35</td>\n",
       "      <td>50</td>\n",
       "      <td>...</td>\n",
       "      <td>37</td>\n",
       "      <td>24</td>\n",
       "      <td>35</td>\n",
       "      <td>46</td>\n",
       "      <td>19</td>\n",
       "      <td>0</td>\n",
       "      <td>23</td>\n",
       "      <td>45</td>\n",
       "      <td>67</td>\n",
       "      <td>74</td>\n",
       "    </tr>\n",
       "    <tr>\n",
       "      <th>5553</th>\n",
       "      <td>Red Nose Winter Ale</td>\n",
       "      <td>696</td>\n",
       "      <td>Winter Warmer</td>\n",
       "      <td>17</td>\n",
       "      <td>Natty Greene's Pub &amp; Brewing Co.</td>\n",
       "      <td>Notes:</td>\n",
       "      <td>6.8</td>\n",
       "      <td>3.59</td>\n",
       "      <td>35</td>\n",
       "      <td>50</td>\n",
       "      <td>...</td>\n",
       "      <td>44</td>\n",
       "      <td>24</td>\n",
       "      <td>19</td>\n",
       "      <td>52</td>\n",
       "      <td>21</td>\n",
       "      <td>0</td>\n",
       "      <td>26</td>\n",
       "      <td>21</td>\n",
       "      <td>96</td>\n",
       "      <td>77</td>\n",
       "    </tr>\n",
       "    <tr>\n",
       "      <th>5555</th>\n",
       "      <td>Fish Tale Winterfish</td>\n",
       "      <td>698</td>\n",
       "      <td>Winter Warmer</td>\n",
       "      <td>17</td>\n",
       "      <td>Fish Brewing Company / Fishbowl Brewpub</td>\n",
       "      <td>Notes:</td>\n",
       "      <td>7.5</td>\n",
       "      <td>3.76</td>\n",
       "      <td>35</td>\n",
       "      <td>50</td>\n",
       "      <td>...</td>\n",
       "      <td>36</td>\n",
       "      <td>50</td>\n",
       "      <td>70</td>\n",
       "      <td>72</td>\n",
       "      <td>59</td>\n",
       "      <td>0</td>\n",
       "      <td>81</td>\n",
       "      <td>110</td>\n",
       "      <td>18</td>\n",
       "      <td>73</td>\n",
       "    </tr>\n",
       "  </tbody>\n",
       "</table></div>"
      ],
      "text/plain": [
       "                       Name  key          Style  Style Key  \\\n",
       "3              Doppelsticke  254        Altbier          8   \n",
       "6                    Sticke  257        Altbier          8   \n",
       "8       Southampton Altbier  259        Altbier          8   \n",
       "10      Organic Münster Alt  261        Altbier          8   \n",
       "20          Alt-eration Ale  271        Altbier          8   \n",
       "...                     ...  ...            ...        ...   \n",
       "5547          Winter Warmer  690  Winter Warmer         17   \n",
       "5548  Young's Winter Warmer  691  Winter Warmer         17   \n",
       "5550        Winter Shredder  693  Winter Warmer         17   \n",
       "5553    Red Nose Winter Ale  696  Winter Warmer         17   \n",
       "5555   Fish Tale Winterfish  698  Winter Warmer         17   \n",
       "\n",
       "                                      Brewery Description  ABV  Ave Rating  \\\n",
       "3              Uerige Obergärige Hausbrauerei      Notes:  8.5        4.15   \n",
       "6              Uerige Obergärige Hausbrauerei      Notes:  6.0        4.10   \n",
       "8                   Southampton Publick House      Notes:  5.0        3.60   \n",
       "10                    Brauerei Pinkus Mueller      Notes:  5.1        3.70   \n",
       "20                       Hops & Grain Brewing      Notes:  5.0        3.81   \n",
       "...                                       ...         ...  ...         ...   \n",
       "5547              Rahr & Sons Brewing Company      Notes:  8.5        3.76   \n",
       "5548                            Eagle Brewery      Notes:  5.0        3.55   \n",
       "5550                       Cisco Brewers Inc.      Notes:  8.8        3.38   \n",
       "5553         Natty Greene's Pub & Brewing Co.      Notes:  6.8        3.59   \n",
       "5555  Fish Brewing Company / Fishbowl Brewpub      Notes:  7.5        3.76   \n",
       "\n",
       "      Min IBU  Max IBU  ...  Body  Alcohol  Bitter  Sweet  Sour  Salty  \\\n",
       "3          25       50  ...    55       31      47    101    18      1   \n",
       "6          25       50  ...    45       13      46     62    25      1   \n",
       "8          25       50  ...    49        5      37     73    22      0   \n",
       "10         25       50  ...    31        5      35     50    55      5   \n",
       "20         25       50  ...    43        3      54     54     7      0   \n",
       "...       ...      ...  ...   ...      ...     ...    ...   ...    ...   \n",
       "5547       35       50  ...    67       31      46     67    11      0   \n",
       "5548       35       50  ...    67       17      28     73    19      0   \n",
       "5550       35       50  ...    37       24      35     46    19      0   \n",
       "5553       35       50  ...    44       24      19     52    21      0   \n",
       "5555       35       50  ...    36       50      70     72    59      0   \n",
       "\n",
       "      Fruits  Hoppy  Spices  Malty  \n",
       "3         49     40      16    119  \n",
       "6         34     60       4    103  \n",
       "8         21     37       4     98  \n",
       "10        52     66       8     77  \n",
       "20        10     60       9    111  \n",
       "...      ...    ...     ...    ...  \n",
       "5547      24     24      28    100  \n",
       "5548      19     32      43    100  \n",
       "5550      23     45      67     74  \n",
       "5553      26     21      96     77  \n",
       "5555      81    110      18     73  \n",
       "\n",
       "[2196 rows x 21 columns]"
      ]
     },
     "execution_count": 35,
     "metadata": {},
     "output_type": "execute_result"
    }
   ],
   "source": [
    "df[df['Description'].str.len()==6]"
   ]
  },
  {
   "cell_type": "markdown",
   "id": "b1fa8557",
   "metadata": {},
   "source": [
    "#### I will delete those rows of my DataFrame"
   ]
  },
  {
   "cell_type": "code",
   "execution_count": 36,
   "id": "8571ba64",
   "metadata": {},
   "outputs": [],
   "source": [
    "df.drop(df.index[(df['Description'].str.len()==6)],axis=0,inplace=True)"
   ]
  },
  {
   "cell_type": "markdown",
   "id": "16654460",
   "metadata": {},
   "source": [
    "### The new dataframe has 3362 rows"
   ]
  },
  {
   "cell_type": "code",
   "execution_count": 37,
   "id": "286e2d9c",
   "metadata": {},
   "outputs": [
    {
     "data": {
      "text/plain": [
       "3362"
      ]
     },
     "execution_count": 37,
     "metadata": {},
     "output_type": "execute_result"
    }
   ],
   "source": [
    "len(df)"
   ]
  },
  {
   "cell_type": "code",
   "execution_count": 38,
   "id": "8042125a",
   "metadata": {},
   "outputs": [
    {
     "data": {
      "text/plain": [
       "<AxesSubplot:xlabel='Description', ylabel='Count'>"
      ]
     },
     "execution_count": 38,
     "metadata": {},
     "output_type": "execute_result"
    },
    {
     "data": {
      "image/png": "[encoded data removed]",
      "text/plain": [
       "<Figure size 432x288 with 1 Axes>"
      ]
     },
     "metadata": {
      "needs_background": "light"
     },
     "output_type": "display_data"
    }
   ],
   "source": [
    "sns.histplot(df['Description'].str.len(),bins=80)"
   ]
  },
  {
   "cell_type": "code",
   "execution_count": 39,
   "id": "3ca3f1cc",
   "metadata": {},
   "outputs": [
    {
     "data": {
      "text/plain": [
       "13      27\n",
       "270     14\n",
       "251     12\n",
       "359     12\n",
       "285     12\n",
       "        ..\n",
       "1054     1\n",
       "1074     1\n",
       "1078     1\n",
       "1102     1\n",
       "2043     1\n",
       "Name: Description, Length: 831, dtype: int64"
      ]
     },
     "execution_count": 39,
     "metadata": {},
     "output_type": "execute_result"
    }
   ],
   "source": [
    "df['Description'].str.len().value_counts(ascending=False)"
   ]
  },
  {
   "cell_type": "code",
   "execution_count": 40,
   "id": "5e6bf47a",
   "metadata": {
    "scrolled": true
   },
   "outputs": [
    {
     "name": "stdout",
     "output_type": "stream",
     "text": [
      "Which kind of beer would you like to drink?:Me loves fruity beers!\n"
     ]
    },
    {
     "data": {
      "text/plain": [
       "'Me loves fruity beers!'"
      ]
     },
     "execution_count": 40,
     "metadata": {},
     "output_type": "execute_result"
    }
   ],
   "source": [
    "y=input('Which kind of beer would you like to drink?:')\n",
    "y"
   ]
  },
  {
   "cell_type": "code",
   "execution_count": 41,
   "id": "165c30e3",
   "metadata": {},
   "outputs": [],
   "source": [
    "import nltk"
   ]
  },
  {
   "cell_type": "code",
   "execution_count": 42,
   "id": "d8abd397",
   "metadata": {},
   "outputs": [],
   "source": [
    "from nltk.stem import WordNetLemmatizer"
   ]
  },
  {
   "cell_type": "code",
   "execution_count": 43,
   "id": "36022437",
   "metadata": {},
   "outputs": [],
   "source": [
    "from nltk.tokenize import sent_tokenize, word_tokenize"
   ]
  },
  {
   "cell_type": "code",
   "execution_count": 44,
   "id": "240471bd",
   "metadata": {},
   "outputs": [],
   "source": [
    "from nltk.stem.porter import PorterStemmer"
   ]
  },
  {
   "cell_type": "code",
   "execution_count": 45,
   "id": "c8d4f459",
   "metadata": {},
   "outputs": [],
   "source": [
    "lemmatizer = WordNetLemmatizer()"
   ]
  },
  {
   "cell_type": "code",
   "execution_count": 63,
   "id": "1b0ab421",
   "metadata": {},
   "outputs": [],
   "source": [
    "def normalize_text(y):\n",
    "    normalized_y=nltk.word_tokenize(y)\n",
    "    normalized_y=[lemmatizer.lemmatize(word) for word in normalized_y]\n",
    "    sentence= ' '.join(normalized_y)\n",
    "    return sentence"
   ]
  },
  {
   "cell_type": "code",
   "execution_count": 65,
   "id": "26899a9c",
   "metadata": {},
   "outputs": [
    {
     "data": {
      "text/plain": [
       "'Me love fruity beer !'"
      ]
     },
     "execution_count": 65,
     "metadata": {},
     "output_type": "execute_result"
    }
   ],
   "source": [
    "normalize_text(y)"
   ]
  },
  {
   "cell_type": "code",
   "execution_count": 51,
   "id": "7bdb2562",
   "metadata": {},
   "outputs": [],
   "source": [
    "################"
   ]
  },
  {
   "cell_type": "code",
   "execution_count": 52,
   "id": "ed41fb71",
   "metadata": {
    "scrolled": true
   },
   "outputs": [
    {
     "data": {
      "text/plain": [
       "0       Altbier Notes:Richly malty and long on the pal...\n",
       "1       Altbier Notes:This malty, full-bodied double a...\n",
       "2       Altbier Notes:Long Trail Ale is a full-bodied ...\n",
       "3                                          Altbier Notes:\n",
       "4       Altbier Notes:Just cause it's dark and German ...\n",
       "                              ...                        \n",
       "5553                                 Winter Warmer Notes:\n",
       "5554    Winter Warmer Notes:This is the forty-fifth an...\n",
       "5555                                 Winter Warmer Notes:\n",
       "5556    Winter Warmer Notes:Chanukah Beer pours a rich...\n",
       "5557    Winter Warmer Notes:The essence of Christmas i...\n",
       "Length: 5558, dtype: object"
      ]
     },
     "execution_count": 52,
     "metadata": {},
     "output_type": "execute_result"
    }
   ],
   "source": [
    "df_details"
   ]
  },
  {
   "cell_type": "code",
   "execution_count": null,
   "id": "9ec2066f",
   "metadata": {},
   "outputs": [],
   "source": [
    "#Transforming my Serie into a normalized Serie with my 'normalize_text()' function."
   ]
  },
  {
   "cell_type": "code",
   "execution_count": 70,
   "id": "431c7d72",
   "metadata": {},
   "outputs": [],
   "source": [
    "for x in range(len(df_details)):\n",
    "    df_details[x]=normalize_text(df_details[x])"
   ]
  },
  {
   "cell_type": "code",
   "execution_count": 71,
   "id": "c4b357eb",
   "metadata": {},
   "outputs": [
    {
     "data": {
      "text/plain": [
       "0       Altbier Notes : Richly malty and long on the p...\n",
       "1       Altbier Notes : This malty , full-bodied doubl...\n",
       "2       Altbier Notes : Long Trail Ale is a full-bodie...\n",
       "3                                         Altbier Notes :\n",
       "4       Altbier Notes : Just cause it 's dark and Germ...\n",
       "                              ...                        \n",
       "5553                                Winter Warmer Notes :\n",
       "5554    Winter Warmer Notes : This is the forty-fifth ...\n",
       "5555                                Winter Warmer Notes :\n",
       "5556    Winter Warmer Notes : Chanukah Beer pours a ri...\n",
       "5557    Winter Warmer Notes : The essence of Christmas...\n",
       "Length: 5558, dtype: object"
      ]
     },
     "execution_count": 71,
     "metadata": {},
     "output_type": "execute_result"
    }
   ],
   "source": [
    "df_details"
   ]
  },
  {
   "cell_type": "code",
   "execution_count": 72,
   "id": "5927a467",
   "metadata": {},
   "outputs": [],
   "source": [
    "vectorizer= TfidfVectorizer()\n",
    "X=vectorizer.fit_transform(df_details)"
   ]
  },
  {
   "cell_type": "code",
   "execution_count": 73,
   "id": "4609a890",
   "metadata": {
    "scrolled": true
   },
   "outputs": [
    {
     "name": "stdout",
     "output_type": "stream",
     "text": [
      "  (0, 1446)\t0.16092057872047874\n",
      "  (0, 12719)\t0.17439629251142022\n",
      "  (0, 8279)\t0.3581514504183443\n",
      "  (0, 1621)\t0.08221948690353649\n",
      "  (0, 11349)\t0.1305990681702592\n",
      "  (0, 958)\t0.282872355615659\n",
      "  (0, 2948)\t0.22126557797047147\n",
      "  (0, 989)\t0.1705205064116016\n",
      "  (0, 1597)\t0.23671518996346771\n",
      "  (0, 11775)\t0.0961362270202006\n",
      "  (0, 7456)\t0.17808410253640394\n",
      "  (0, 11875)\t0.0941033233143445\n",
      "  (0, 1417)\t0.3751866869200416\n",
      "  (0, 6070)\t0.10614651863782876\n",
      "  (0, 4377)\t0.23228856664550507\n",
      "  (0, 6755)\t0.17847133166247975\n",
      "  (0, 12893)\t0.07995929776242032\n",
      "  (0, 8681)\t0.19295948149798378\n",
      "  (0, 11737)\t0.07890958215661283\n",
      "  (0, 8468)\t0.13457854619850965\n",
      "  (0, 7281)\t0.1998037181508115\n",
      "  (0, 1055)\t0.07184481740760265\n",
      "  (0, 7493)\t0.1730072713692754\n",
      "  (0, 9988)\t0.2965446727731567\n",
      "  (0, 8284)\t0.04202918117719588\n",
      "  :\t:\n",
      "  (5557, 3036)\t0.2009719182749253\n",
      "  (5557, 4475)\t0.21178780408560538\n",
      "  (5557, 10413)\t0.1617103400826211\n",
      "  (5557, 6024)\t0.17506244865482729\n",
      "  (5557, 2760)\t0.37940909411235413\n",
      "  (5557, 2550)\t0.17995277778767257\n",
      "  (5557, 8420)\t0.17995277778767257\n",
      "  (5557, 10306)\t0.2077385701281564\n",
      "  (5557, 1980)\t0.13160615408289347\n",
      "  (5557, 13054)\t0.1048537079016866\n",
      "  (5557, 4605)\t0.16715613078593783\n",
      "  (5557, 9983)\t0.10716965812917816\n",
      "  (5557, 1842)\t0.16212861167603837\n",
      "  (5557, 12444)\t0.26259969265909466\n",
      "  (5557, 12874)\t0.13907352488742394\n",
      "  (5557, 3327)\t0.18072052030726446\n",
      "  (5557, 4971)\t0.08591079932048215\n",
      "  (5557, 7470)\t0.07424728724523415\n",
      "  (5557, 8414)\t0.05695404259000202\n",
      "  (5557, 11013)\t0.1319155874795279\n",
      "  (5557, 6346)\t0.06537300560239576\n",
      "  (5557, 6602)\t0.06284729683000397\n",
      "  (5557, 11775)\t0.13877520621725303\n",
      "  (5557, 11737)\t0.17086212777000606\n",
      "  (5557, 8284)\t0.030335121659091496\n"
     ]
    }
   ],
   "source": [
    "print(X)"
   ]
  },
  {
   "cell_type": "code",
   "execution_count": 78,
   "id": "9c2b0be6",
   "metadata": {},
   "outputs": [
    {
     "data": {
      "text/plain": [
       "array(['000', '000th', '003', ..., 'ﬂavor', 'ﬂavors', 'ﬂoral'],\n",
       "      dtype=object)"
      ]
     },
     "execution_count": 78,
     "metadata": {},
     "output_type": "execute_result"
    }
   ],
   "source": [
    "vectorizer.get_feature_names_out()"
   ]
  },
  {
   "cell_type": "code",
   "execution_count": 91,
   "id": "aea94580",
   "metadata": {},
   "outputs": [
    {
     "name": "stdout",
     "output_type": "stream",
     "text": [
      "Which kind of beer would you like to drink?:I want a strong beer\n"
     ]
    },
    {
     "data": {
      "text/plain": [
       "'I want a strong beer'"
      ]
     },
     "execution_count": 91,
     "metadata": {},
     "output_type": "execute_result"
    }
   ],
   "source": [
    "y=input('Which kind of beer would you like to drink?:')\n",
    "y"
   ]
  },
  {
   "cell_type": "code",
   "execution_count": 92,
   "id": "4365879f",
   "metadata": {},
   "outputs": [
    {
     "name": "stdout",
     "output_type": "stream",
     "text": [
      "I recommend you take beer 4864\n"
     ]
    }
   ],
   "source": [
    "similarities=get_similarities(X,y)\n",
    "index_top_bier = np.argmax(similarities)\n",
    "print(f'I recommend you take beer {index_top_bier}')"
   ]
  },
  {
   "cell_type": "code",
   "execution_count": 93,
   "id": "5cdeb898",
   "metadata": {},
   "outputs": [
    {
     "data": {
      "text/plain": [
       "'Strong Ale - American Notes :'"
      ]
     },
     "execution_count": 93,
     "metadata": {},
     "output_type": "execute_result"
    }
   ],
   "source": [
    "df_details.iloc[index_top_bier]"
   ]
  },
  {
   "cell_type": "code",
   "execution_count": null,
   "id": "550fbc3e",
   "metadata": {},
   "outputs": [],
   "source": []
  }
 ],
 "metadata": {
  "kernelspec": {
   "display_name": "Python 3",
   "language": "python",
   "name": "python3"
  },
  "language_info": {
   "codemirror_mode": {
    "name": "ipython",
    "version": 3
   },
   "file_extension": ".py",
   "mimetype": "text/x-python",
   "name": "python",
   "nbconvert_exporter": "python",
   "pygments_lexer": "ipython3",
   "version": "3.8.8"
  },
  "vscode": {
   "interpreter": {
    "hash": "61e949a31781f544075d74ea90da72715088cf322f989b147c5300e4e4630d0b"
   }
  }
 },
 "nbformat": 4,
 "nbformat_minor": 5
}
